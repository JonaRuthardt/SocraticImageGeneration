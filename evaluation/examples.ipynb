{
 "cells": [
  {
   "cell_type": "code",
   "execution_count": null,
   "metadata": {},
   "outputs": [],
   "source": [
    "import matplotlib.pyplot as plt\n",
    "import textwrap\n",
    "import os"
   ]
  },
  {
   "cell_type": "code",
   "execution_count": null,
   "metadata": {},
   "outputs": [],
   "source": [
    "def get_lines(file_path):\n",
    "  arr = []\n",
    "  with open(file_path, 'r') as file:\n",
    "    for row in file:\n",
    "      row = row.split(\"\\t\")\n",
    "      arr.append(row[1].rstrip())\n",
    "\n",
    "  return arr"
   ]
  },
  {
   "cell_type": "code",
   "execution_count": null,
   "metadata": {},
   "outputs": [],
   "source": [
    "def get_best_image(results_path):\n",
    "    with open(results_path, 'r') as file:\n",
    "        for row in file:\n",
    "            row = row.split(\"\\t\")\n",
    "            best_img = row[1].rstrip()\n",
    "    \n",
    "    return best_img"
   ]
  },
  {
   "cell_type": "code",
   "execution_count": null,
   "metadata": {},
   "outputs": [],
   "source": [
    "experiment_dir = '/home/mara/workspace/SocraticImageGeneration/data/results/full_experiment_V2_coco'\n",
    "lower_bound = 120\n",
    "upper_bound = 160"
   ]
  },
  {
   "cell_type": "code",
   "execution_count": null,
   "metadata": {},
   "outputs": [],
   "source": [
    "fig, axs = plt.subplots(40, 7, figsize=(28, 280))\n",
    "\n",
    "row = 0\n",
    "\n",
    "for dir in os.listdir(experiment_dir):\n",
    "    dir_path = os.path.join(experiment_dir, dir)\n",
    "    if os.path.isdir(dir_path):\n",
    "        if int(dir) >= lower_bound and int(dir) < upper_bound: # for different bounds change here\n",
    "            file_list = os.listdir(dir_path)\n",
    "            image_paths = [os.path.join(dir_path, file) for file in file_list if file.lower().endswith(('.png', '.jpg', '.jpeg'))]\n",
    "            image_paths = sorted(image_paths)\n",
    "            image_paths = [image_paths[-1]] + image_paths[:-1]  # make the original image be the first one\n",
    "\n",
    "            captions_path = os.path.join(dir_path, \"captions.csv\")\n",
    "            prompts_path = os.path.join(dir_path, \"prompts.csv\")\n",
    "            results_path = os.path.join(dir_path, \"results.txt\")\n",
    "\n",
    "            captions = get_lines(captions_path)\n",
    "            prompts = get_lines(prompts_path)\n",
    "\n",
    "            best_img_idx = get_best_image(results_path)\n",
    "\n",
    "            for i, path in enumerate(image_paths):\n",
    "                image = plt.imread(path)\n",
    "\n",
    "                axs[row, i].imshow(image)\n",
    "                axs[row, i].axis('off')\n",
    "\n",
    "                if i == 0:\n",
    "                    wrapped_prompt = textwrap.fill(prompts[i], 35)\n",
    "                    merged_titles = 'Original Image' + '\\n' + 'Dir: ' + dir + \"\\n\" + 'Prompt: ' + wrapped_prompt\n",
    "                elif i < 6:\n",
    "                    wrapped_prompt = textwrap.fill(prompts[i], 35)\n",
    "                    wrapped_caption = textwrap.fill(captions[i-1], 35)\n",
    "                    merged_titles = 'Prompt: ' + wrapped_prompt + '\\n' + 'Caption: ' + wrapped_caption\n",
    "                else:\n",
    "                    wrapped_caption = textwrap.fill(captions[i-1], 35)\n",
    "                    merged_titles = 'Caption: ' + wrapped_caption\n",
    "\n",
    "                axs[row, i].set_title(merged_titles)\n",
    "\n",
    "                if i == int(best_img_idx) + 1:\n",
    "                    rectangle = plt.Rectangle((0, 0), image.shape[1], image.shape[0], linewidth=13, edgecolor='red', facecolor='none')\n",
    "                    axs[row, i].add_patch(rectangle)\n",
    "\n",
    "            row += 1\n",
    "\n",
    "plt.tight_layout()\n",
    "plt.show()\n"
   ]
  }
 ],
 "metadata": {
  "kernelspec": {
   "display_name": "DL2",
   "language": "python",
   "name": "python3"
  },
  "language_info": {
   "codemirror_mode": {
    "name": "ipython",
    "version": 3
   },
   "file_extension": ".py",
   "mimetype": "text/x-python",
   "name": "python",
   "nbconvert_exporter": "python",
   "pygments_lexer": "ipython3",
   "version": "3.10.11"
  },
  "orig_nbformat": 4
 },
 "nbformat": 4,
 "nbformat_minor": 2
}
