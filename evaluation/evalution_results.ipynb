{
 "cells": [
  {
   "cell_type": "markdown",
   "source": [
    "### Imports"
   ],
   "metadata": {
    "collapsed": false
   }
  },
  {
   "cell_type": "code",
   "execution_count": 1,
   "metadata": {
    "ExecuteTime": {
     "end_time": "2023-05-19T17:46:23.752875Z",
     "start_time": "2023-05-19T17:46:23.741864800Z"
    }
   },
   "outputs": [],
   "source": [
    "import os\n",
    "import pandas as pd\n",
    "import warnings\n",
    "from PIL import Image\n",
    "\n",
    "warnings.filterwarnings('ignore')"
   ]
  },
  {
   "cell_type": "markdown",
   "source": [
    "### Load data"
   ],
   "metadata": {
    "collapsed": false
   }
  },
  {
   "cell_type": "code",
   "execution_count": 2,
   "outputs": [],
   "source": [
    "os.chdir('..')"
   ],
   "metadata": {
    "collapsed": false,
    "ExecuteTime": {
     "end_time": "2023-05-19T17:46:30.435341900Z",
     "start_time": "2023-05-19T17:46:30.421239100Z"
    }
   }
  },
  {
   "cell_type": "code",
   "execution_count": 3,
   "outputs": [],
   "source": [
    "# 'test_results'\n",
    "experiment_name = input('Provide the name of the experiment folder')"
   ],
   "metadata": {
    "collapsed": false,
    "ExecuteTime": {
     "end_time": "2023-05-19T17:46:34.366505900Z",
     "start_time": "2023-05-19T17:46:31.801466Z"
    }
   }
  },
  {
   "cell_type": "code",
   "execution_count": 4,
   "outputs": [],
   "source": [
    "evaluation_file = f'data/results/{experiment_name}/evaluation.tsv'"
   ],
   "metadata": {
    "collapsed": false,
    "ExecuteTime": {
     "end_time": "2023-05-19T17:46:35.882295400Z",
     "start_time": "2023-05-19T17:46:35.832798100Z"
    }
   }
  },
  {
   "cell_type": "code",
   "execution_count": 5,
   "outputs": [],
   "source": [
    "results = pd.read_csv(evaluation_file, sep='\\t')"
   ],
   "metadata": {
    "collapsed": false,
    "ExecuteTime": {
     "end_time": "2023-05-19T17:46:37.365288400Z",
     "start_time": "2023-05-19T17:46:37.265047200Z"
    }
   }
  },
  {
   "cell_type": "code",
   "execution_count": 6,
   "outputs": [
    {
     "data": {
      "text/plain": "   prompt_id  image_id  clip_score  \\\n0          0         0    0.779375   \n1          0         1    0.765068   \n2          0         2    0.786328   \n3          0         3    0.752815   \n4          0         4    0.838345   \n\n                                         user_prompt  \\\n0  A couple of middle eastern dishes with fruit a...   \n1  A couple of middle eastern dishes with fruit a...   \n2  A couple of middle eastern dishes with fruit a...   \n3  A couple of middle eastern dishes with fruit a...   \n4  A couple of middle eastern dishes with fruit a...   \n\n                                    optimized_prompt  \\\n0  A couple of middle eastern dishes with fruit a...   \n1  A flavorful spread of Middle Eastern mezze dis...   \n2  A platter of middle eastern cuisine served wit...   \n3  A spread of Middle Eastern cuisine featuring a...   \n4  Middle Eastern mezze spread with tabbouleh sal...   \n\n                                             caption  \\\n0  a close up of a table with bowls of food and b...   \n1  a close up of a table with bowls of food and a...   \n2  there are four bowls of food on a table with s...   \n3  a close up of a table with bowls of food and b...   \n4  there are many different types of food on the ...   \n\n                                          image_path  img_sim_score  \\\n0  /home/lcur1713/SocraticImageGeneration/data/re...       0.549753   \n1  /home/lcur1713/SocraticImageGeneration/data/re...       0.598717   \n2  /home/lcur1713/SocraticImageGeneration/data/re...       0.614786   \n3  /home/lcur1713/SocraticImageGeneration/data/re...       0.555429   \n4  /home/lcur1713/SocraticImageGeneration/data/re...       0.600402   \n\n   spice_score  best_image  terminated  \n0     0.000000         0.0         0.0  \n1     0.105263         0.0         0.0  \n2     0.000000         0.0         0.0  \n3     0.111111         1.0         0.0  \n4     0.000000         0.0         0.0  ",
      "text/html": "<div>\n<style scoped>\n    .dataframe tbody tr th:only-of-type {\n        vertical-align: middle;\n    }\n\n    .dataframe tbody tr th {\n        vertical-align: top;\n    }\n\n    .dataframe thead th {\n        text-align: right;\n    }\n</style>\n<table border=\"1\" class=\"dataframe\">\n  <thead>\n    <tr style=\"text-align: right;\">\n      <th></th>\n      <th>prompt_id</th>\n      <th>image_id</th>\n      <th>clip_score</th>\n      <th>user_prompt</th>\n      <th>optimized_prompt</th>\n      <th>caption</th>\n      <th>image_path</th>\n      <th>img_sim_score</th>\n      <th>spice_score</th>\n      <th>best_image</th>\n      <th>terminated</th>\n    </tr>\n  </thead>\n  <tbody>\n    <tr>\n      <th>0</th>\n      <td>0</td>\n      <td>0</td>\n      <td>0.779375</td>\n      <td>A couple of middle eastern dishes with fruit a...</td>\n      <td>A couple of middle eastern dishes with fruit a...</td>\n      <td>a close up of a table with bowls of food and b...</td>\n      <td>/home/lcur1713/SocraticImageGeneration/data/re...</td>\n      <td>0.549753</td>\n      <td>0.000000</td>\n      <td>0.0</td>\n      <td>0.0</td>\n    </tr>\n    <tr>\n      <th>1</th>\n      <td>0</td>\n      <td>1</td>\n      <td>0.765068</td>\n      <td>A couple of middle eastern dishes with fruit a...</td>\n      <td>A flavorful spread of Middle Eastern mezze dis...</td>\n      <td>a close up of a table with bowls of food and a...</td>\n      <td>/home/lcur1713/SocraticImageGeneration/data/re...</td>\n      <td>0.598717</td>\n      <td>0.105263</td>\n      <td>0.0</td>\n      <td>0.0</td>\n    </tr>\n    <tr>\n      <th>2</th>\n      <td>0</td>\n      <td>2</td>\n      <td>0.786328</td>\n      <td>A couple of middle eastern dishes with fruit a...</td>\n      <td>A platter of middle eastern cuisine served wit...</td>\n      <td>there are four bowls of food on a table with s...</td>\n      <td>/home/lcur1713/SocraticImageGeneration/data/re...</td>\n      <td>0.614786</td>\n      <td>0.000000</td>\n      <td>0.0</td>\n      <td>0.0</td>\n    </tr>\n    <tr>\n      <th>3</th>\n      <td>0</td>\n      <td>3</td>\n      <td>0.752815</td>\n      <td>A couple of middle eastern dishes with fruit a...</td>\n      <td>A spread of Middle Eastern cuisine featuring a...</td>\n      <td>a close up of a table with bowls of food and b...</td>\n      <td>/home/lcur1713/SocraticImageGeneration/data/re...</td>\n      <td>0.555429</td>\n      <td>0.111111</td>\n      <td>1.0</td>\n      <td>0.0</td>\n    </tr>\n    <tr>\n      <th>4</th>\n      <td>0</td>\n      <td>4</td>\n      <td>0.838345</td>\n      <td>A couple of middle eastern dishes with fruit a...</td>\n      <td>Middle Eastern mezze spread with tabbouleh sal...</td>\n      <td>there are many different types of food on the ...</td>\n      <td>/home/lcur1713/SocraticImageGeneration/data/re...</td>\n      <td>0.600402</td>\n      <td>0.000000</td>\n      <td>0.0</td>\n      <td>0.0</td>\n    </tr>\n  </tbody>\n</table>\n</div>"
     },
     "execution_count": 6,
     "metadata": {},
     "output_type": "execute_result"
    }
   ],
   "source": [
    "results.head()"
   ],
   "metadata": {
    "collapsed": false,
    "ExecuteTime": {
     "end_time": "2023-05-19T17:46:38.530922700Z",
     "start_time": "2023-05-19T17:46:38.497643700Z"
    }
   }
  },
  {
   "cell_type": "code",
   "execution_count": 7,
   "outputs": [],
   "source": [
    "# Define columns with scores\n",
    "scores = ['clip_score','spice_score','img_sim_score']\n",
    "coco = True\n",
    "if 'img_sim_score' not in results.columns:\n",
    "    coco = False\n",
    "    scores.remove('img_sim_score')\n"
   ],
   "metadata": {
    "collapsed": false,
    "ExecuteTime": {
     "end_time": "2023-05-19T17:46:40.646496700Z",
     "start_time": "2023-05-19T17:46:40.563494Z"
    }
   }
  },
  {
   "cell_type": "markdown",
   "source": [
    "### Results"
   ],
   "metadata": {
    "collapsed": false
   }
  },
  {
   "cell_type": "code",
   "execution_count": 20,
   "outputs": [
    {
     "data": {
      "text/plain": "Index(['prompt_id', 'image_id', 'clip_score', 'user_prompt',\n       'optimized_prompt', 'caption', 'image_path', 'spice_score',\n       'best_image', 'terminated'],\n      dtype='object')"
     },
     "execution_count": 20,
     "metadata": {},
     "output_type": "execute_result"
    }
   ],
   "source": [
    "#prompt_num = results['prompt_id'].nunique()\n",
    "#optimization_step_num = results.groupby(['prompt_id'])['image_id'].count().max()\n",
    "results.columns"
   ],
   "metadata": {
    "collapsed": false,
    "ExecuteTime": {
     "end_time": "2023-05-19T17:29:38.926805100Z",
     "start_time": "2023-05-19T17:29:38.811220300Z"
    }
   }
  },
  {
   "cell_type": "markdown",
   "source": [
    "#### Percentage of generated image better than the initial one (works only for COCO dataset)"
   ],
   "metadata": {
    "collapsed": false
   }
  },
  {
   "cell_type": "code",
   "execution_count": 13,
   "outputs": [
    {
     "name": "stdout",
     "output_type": "stream",
     "text": [
      "The clip score at the terminated step was better than the initial 60.0 % of the times\n"
     ]
    }
   ],
   "source": [
    "df = results[['image_id','clip_score','terminated']]\n",
    "num_better_score_than_initial = 0\n",
    "# for every original image (6,13,20..)\n",
    "for i in range(6, len(df), 7):\n",
    "    terminated = False\n",
    "    # check all the generated images (0..5, 7..12,...)\n",
    "    for j in range(i-1,i-7,-1):\n",
    "        if df.loc[j,'terminated']==1:\n",
    "            terminated = True\n",
    "        # if it was terminated and the score was higher than the initial increase the counter\n",
    "        if df.loc[j,'terminated']==1 and df.loc[i, \"image_id\"] == -1 and df.loc[j, \"clip_score\"] >= df.loc[i, \"clip_score\"]:\n",
    "           num_better_score_than_initial +=1\n",
    "\n",
    "    # It can be the case that it wasn't terminated and thus we chose the last image (5th iteration)\n",
    "    # then check if the last image has better result than the initial one\n",
    "    if not terminated and df.loc[i, \"image_id\"] == -1 and df.loc[i-1, \"clip_score\"] >= df.loc[i, \"clip_score\"]:\n",
    "        num_better_score_than_initial += 1\n",
    "num_prompts = len(df)/7\n",
    "print(\"The clip score at the terminated step was better than the initial\", (num_better_score_than_initial/num_prompts)*100, \"% of the times\")"
   ],
   "metadata": {
    "collapsed": false,
    "ExecuteTime": {
     "end_time": "2023-05-19T17:49:12.281696700Z",
     "start_time": "2023-05-19T17:49:12.229672600Z"
    }
   }
  },
  {
   "cell_type": "code",
   "execution_count": 14,
   "outputs": [
    {
     "name": "stdout",
     "output_type": "stream",
     "text": [
      "The clip score of the best image according to LLM was better than the initial 57.99999999999999 % of the times\n"
     ]
    }
   ],
   "source": [
    "df = results[['image_id','clip_score','best_image']]\n",
    "num_better_score_than_initial = 0\n",
    "# for every original image (6,13,20..)\n",
    "for i in range(6, len(df), 7):\n",
    "    best_image = False\n",
    "    # check all the generated images (0..5, 7..12,...)\n",
    "    for j in range(i-1,i-7,-1):\n",
    "        if df.loc[j,'best_image']==1:\n",
    "            best_image = True\n",
    "        # if it was the best image and the score was higher than the initial increase the counter\n",
    "        if df.loc[j,'best_image']==1 and df.loc[i, \"image_id\"] == -1 and df.loc[j, \"clip_score\"] >= df.loc[i, \"clip_score\"]:\n",
    "           num_better_score_than_initial +=1\n",
    "\n",
    "num_prompts = len(df)/7\n",
    "print(\"The clip score of the best image according to LLM was better than the initial\", (num_better_score_than_initial/num_prompts)*100, \"% of the times\")"
   ],
   "metadata": {
    "collapsed": false,
    "ExecuteTime": {
     "end_time": "2023-05-19T17:49:16.127070700Z",
     "start_time": "2023-05-19T17:49:16.110467600Z"
    }
   }
  },
  {
   "cell_type": "markdown",
   "source": [
    "#### Average scores"
   ],
   "metadata": {
    "collapsed": false
   }
  },
  {
   "cell_type": "code",
   "execution_count": 16,
   "outputs": [],
   "source": [
    "import matplotlib.pyplot as plt\n",
    "import seaborn as sns"
   ],
   "metadata": {
    "collapsed": false,
    "ExecuteTime": {
     "end_time": "2023-05-19T17:50:38.415218600Z",
     "start_time": "2023-05-19T17:50:38.398517400Z"
    }
   }
  },
  {
   "cell_type": "code",
   "execution_count": 17,
   "outputs": [],
   "source": [
    "scores_w_id = scores.copy()\n",
    "scores_w_id.append('image_id')"
   ],
   "metadata": {
    "collapsed": false,
    "ExecuteTime": {
     "end_time": "2023-05-19T17:50:39.747775600Z",
     "start_time": "2023-05-19T17:50:39.714475900Z"
    }
   }
  },
  {
   "cell_type": "code",
   "execution_count": 18,
   "outputs": [
    {
     "data": {
      "text/plain": "<Figure size 640x480 with 1 Axes>",
      "image/png": "[encoded data removed]"
     },
     "metadata": {},
     "output_type": "display_data"
    },
    {
     "data": {
      "text/plain": "<Figure size 640x480 with 1 Axes>",
      "image/png": "[encoded data removed]"
     },
     "metadata": {},
     "output_type": "display_data"
    }
   ],
   "source": [
    "df = results[scores_w_id]\n",
    "df_terminated = results[results['terminated'] == True][scores_w_id]\n",
    "df_terminated['image_id'] = 'termi-\\nnated'\n",
    "df_best_image =  results[results['best_image'] == True][scores_w_id]\n",
    "df_best_image['image_id'] = 'best\\nimage'\n",
    "df = df.append(df_terminated)\n",
    "df = df.append(df_best_image)\n",
    "df.loc[df['image_id']== -1, 'image_id']= 'reference\\nimage'\n",
    "\n",
    "max_clip = results.groupby(by='prompt_id')['clip_score'].max()\n",
    "max_spice = results.groupby(by='prompt_id')['spice_score'].max()\n",
    "max_scores = pd.merge(max_clip, max_spice, on='prompt_id', how='left')\n",
    "\n",
    "# If it is the coco dataset then we have img_sim_score, otherwise we don't\n",
    "if coco:\n",
    "    max_img_sim = results.groupby(by='prompt_id')['img_sim_score'].max()\n",
    "    max_scores = pd.merge(max_scores, max_img_sim, on='prompt_id', how='left')\n",
    "\n",
    "\n",
    "max_scores['image_id']='max\\nscores'\n",
    "df = df.append(max_scores)\n",
    "\n",
    "# clip scores\n",
    "columns_clip = ['image_id','clip_score']\n",
    "sns.boxplot(x='image_id', y='clip_score', data=df[columns_clip])\n",
    "plt.xlabel('Iteration/method')\n",
    "plt.title(\"Clip Score\")\n",
    "plt.show()\n",
    "\n",
    "# spice score\n",
    "# filtered_df = df[df['image_id'] != 'reference\\nimage' ]\n",
    "# columns_spice = ['image_id','spice_score']\n",
    "# sns.boxplot(x='image_id', y='spice_score', data=filtered_df[columns_spice])\n",
    "# plt.title(\"Spice Score boxplot for each Iteration\")\n",
    "# plt.show()\n",
    "\n",
    "# If it is the coco dataset then we have img_sim_score, otherwise we don't\n",
    "if coco:\n",
    "    filtered_df = df[df['image_id'] != 'reference\\nimage' ]\n",
    "    columns_img_sim = ['image_id','img_sim_score']\n",
    "    sns.boxplot(x='image_id', y='img_sim_score', data=filtered_df[columns_img_sim])\n",
    "    plt.xlabel('Iteration/method')\n",
    "    plt.title(\"Image similarity score\")\n",
    "    plt.show()"
   ],
   "metadata": {
    "collapsed": false,
    "ExecuteTime": {
     "end_time": "2023-05-19T17:50:42.979419900Z",
     "start_time": "2023-05-19T17:50:41.067610Z"
    }
   }
  },
  {
   "cell_type": "code",
   "execution_count": 25,
   "outputs": [
    {
     "data": {
      "text/plain": "clip_score     0.765842\nspice_score    0.170578\ndtype: float64"
     },
     "execution_count": 25,
     "metadata": {},
     "output_type": "execute_result"
    }
   ],
   "source": [
    "# Average scores for all prompts\n",
    "results[scores].mean()"
   ],
   "metadata": {
    "collapsed": false,
    "ExecuteTime": {
     "end_time": "2023-05-19T17:29:40.660130700Z",
     "start_time": "2023-05-19T17:29:40.643525700Z"
    }
   }
  },
  {
   "cell_type": "markdown",
   "source": [
    "#### Average scores per prompt"
   ],
   "metadata": {
    "collapsed": false
   }
  },
  {
   "cell_type": "code",
   "execution_count": 26,
   "outputs": [
    {
     "data": {
      "text/plain": "          prompt_id  clip_score  spice_score  best_image  terminated\nimage_id                                                            \n0             101.5    0.811466     0.185963    0.284314    0.250000\n1             101.5    0.735978     0.167397    0.161765    0.088235\n2             101.5    0.775403     0.170271    0.176471    0.053922\n3             101.5    0.763668     0.163980    0.132353    0.044118\n4             101.5    0.767244     0.185978    0.132353    0.039216\n5             101.5    0.741291     0.149881    0.088235    0.000000",
      "text/html": "<div>\n<style scoped>\n    .dataframe tbody tr th:only-of-type {\n        vertical-align: middle;\n    }\n\n    .dataframe tbody tr th {\n        vertical-align: top;\n    }\n\n    .dataframe thead th {\n        text-align: right;\n    }\n</style>\n<table border=\"1\" class=\"dataframe\">\n  <thead>\n    <tr style=\"text-align: right;\">\n      <th></th>\n      <th>prompt_id</th>\n      <th>clip_score</th>\n      <th>spice_score</th>\n      <th>best_image</th>\n      <th>terminated</th>\n    </tr>\n    <tr>\n      <th>image_id</th>\n      <th></th>\n      <th></th>\n      <th></th>\n      <th></th>\n      <th></th>\n    </tr>\n  </thead>\n  <tbody>\n    <tr>\n      <th>0</th>\n      <td>101.5</td>\n      <td>0.811466</td>\n      <td>0.185963</td>\n      <td>0.284314</td>\n      <td>0.250000</td>\n    </tr>\n    <tr>\n      <th>1</th>\n      <td>101.5</td>\n      <td>0.735978</td>\n      <td>0.167397</td>\n      <td>0.161765</td>\n      <td>0.088235</td>\n    </tr>\n    <tr>\n      <th>2</th>\n      <td>101.5</td>\n      <td>0.775403</td>\n      <td>0.170271</td>\n      <td>0.176471</td>\n      <td>0.053922</td>\n    </tr>\n    <tr>\n      <th>3</th>\n      <td>101.5</td>\n      <td>0.763668</td>\n      <td>0.163980</td>\n      <td>0.132353</td>\n      <td>0.044118</td>\n    </tr>\n    <tr>\n      <th>4</th>\n      <td>101.5</td>\n      <td>0.767244</td>\n      <td>0.185978</td>\n      <td>0.132353</td>\n      <td>0.039216</td>\n    </tr>\n    <tr>\n      <th>5</th>\n      <td>101.5</td>\n      <td>0.741291</td>\n      <td>0.149881</td>\n      <td>0.088235</td>\n      <td>0.000000</td>\n    </tr>\n  </tbody>\n</table>\n</div>"
     },
     "execution_count": 26,
     "metadata": {},
     "output_type": "execute_result"
    }
   ],
   "source": [
    "results.groupby(['image_id']).mean()"
   ],
   "metadata": {
    "collapsed": false,
    "ExecuteTime": {
     "end_time": "2023-05-19T17:29:41.175534400Z",
     "start_time": "2023-05-19T17:29:40.928136Z"
    }
   }
  },
  {
   "cell_type": "code",
   "execution_count": 27,
   "outputs": [
    {
     "data": {
      "text/plain": "                                                              clip_score  \\\nprompt_id user_prompt                                                      \n0         bond                                                  0.463652   \n1         space                                                 0.661470   \n2         energy                                                0.559120   \n3         hate                                                  0.486995   \n4         0                                                     0.493001   \n...                                                                  ...   \n199       a black towel with a cartoon of a dog on it           0.703472   \n200       the saying 'do unto others as they would do unt...    0.535914   \n201       a coffee mug with an ankh symbol on it                0.906133   \n202       a laptop screen showing a document being edited       0.723644   \n203       the word 'START' on a blue t-shirt                    0.703295   \n\n                                                              spice_score  \nprompt_id user_prompt                                                      \n0         bond                                                   0.000000  \n1         space                                                  0.000000  \n2         energy                                                 0.000000  \n3         hate                                                   0.000000  \n4         0                                                      0.000000  \n...                                                                   ...  \n199       a black towel with a cartoon of a dog on it            0.242903  \n200       the saying 'do unto others as they would do unt...     0.071429  \n201       a coffee mug with an ankh symbol on it                 0.051282  \n202       a laptop screen showing a document being edited        0.060606  \n203       the word 'START' on a blue t-shirt                     0.037037  \n\n[204 rows x 2 columns]",
      "text/html": "<div>\n<style scoped>\n    .dataframe tbody tr th:only-of-type {\n        vertical-align: middle;\n    }\n\n    .dataframe tbody tr th {\n        vertical-align: top;\n    }\n\n    .dataframe thead th {\n        text-align: right;\n    }\n</style>\n<table border=\"1\" class=\"dataframe\">\n  <thead>\n    <tr style=\"text-align: right;\">\n      <th></th>\n      <th></th>\n      <th>clip_score</th>\n      <th>spice_score</th>\n    </tr>\n    <tr>\n      <th>prompt_id</th>\n      <th>user_prompt</th>\n      <th></th>\n      <th></th>\n    </tr>\n  </thead>\n  <tbody>\n    <tr>\n      <th>0</th>\n      <th>bond</th>\n      <td>0.463652</td>\n      <td>0.000000</td>\n    </tr>\n    <tr>\n      <th>1</th>\n      <th>space</th>\n      <td>0.661470</td>\n      <td>0.000000</td>\n    </tr>\n    <tr>\n      <th>2</th>\n      <th>energy</th>\n      <td>0.559120</td>\n      <td>0.000000</td>\n    </tr>\n    <tr>\n      <th>3</th>\n      <th>hate</th>\n      <td>0.486995</td>\n      <td>0.000000</td>\n    </tr>\n    <tr>\n      <th>4</th>\n      <th>0</th>\n      <td>0.493001</td>\n      <td>0.000000</td>\n    </tr>\n    <tr>\n      <th>...</th>\n      <th>...</th>\n      <td>...</td>\n      <td>...</td>\n    </tr>\n    <tr>\n      <th>199</th>\n      <th>a black towel with a cartoon of a dog on it</th>\n      <td>0.703472</td>\n      <td>0.242903</td>\n    </tr>\n    <tr>\n      <th>200</th>\n      <th>the saying 'do unto others as they would do unto you' written on a white background</th>\n      <td>0.535914</td>\n      <td>0.071429</td>\n    </tr>\n    <tr>\n      <th>201</th>\n      <th>a coffee mug with an ankh symbol on it</th>\n      <td>0.906133</td>\n      <td>0.051282</td>\n    </tr>\n    <tr>\n      <th>202</th>\n      <th>a laptop screen showing a document being edited</th>\n      <td>0.723644</td>\n      <td>0.060606</td>\n    </tr>\n    <tr>\n      <th>203</th>\n      <th>the word 'START' on a blue t-shirt</th>\n      <td>0.703295</td>\n      <td>0.037037</td>\n    </tr>\n  </tbody>\n</table>\n<p>204 rows × 2 columns</p>\n</div>"
     },
     "execution_count": 27,
     "metadata": {},
     "output_type": "execute_result"
    }
   ],
   "source": [
    "# Average scores per prompt\n",
    "results.groupby(['prompt_id','user_prompt'])[scores].mean()"
   ],
   "metadata": {
    "collapsed": false,
    "ExecuteTime": {
     "end_time": "2023-05-19T17:29:41.326277100Z",
     "start_time": "2023-05-19T17:29:41.159907700Z"
    }
   }
  },
  {
   "cell_type": "code",
   "execution_count": 27,
   "outputs": [],
   "source": [],
   "metadata": {
    "collapsed": false,
    "ExecuteTime": {
     "end_time": "2023-05-19T17:29:41.692667Z",
     "start_time": "2023-05-19T17:29:41.359950800Z"
    }
   }
  },
  {
   "cell_type": "markdown",
   "source": [
    "#### Early stopping"
   ],
   "metadata": {
    "collapsed": false
   }
  },
  {
   "cell_type": "code",
   "execution_count": 28,
   "outputs": [
    {
     "data": {
      "text/plain": "<Figure size 640x480 with 1 Axes>",
      "image/png": "[encoded data removed]"
     },
     "metadata": {},
     "output_type": "display_data"
    }
   ],
   "source": [
    "df = results[['image_id','terminated']]\n",
    "\n",
    "filtered_df = df[df['terminated'] == 1]\n",
    "\n",
    "# Count the occurrences of each value in the second column\n",
    "grouped = filtered_df['image_id'].value_counts()\n",
    "\n",
    "# Create a pie chart based on the counts\n",
    "labels = grouped.index.tolist() # Get the unique values in the second column as labels\n",
    "plt.pie(grouped, labels=labels, autopct='%1.1f%%')\n",
    "plt.title(\"Percentage of early stopping in every iteration\")\n",
    "plt.show()\n"
   ],
   "metadata": {
    "collapsed": false,
    "ExecuteTime": {
     "end_time": "2023-05-19T17:29:42.409221900Z",
     "start_time": "2023-05-19T17:29:41.894566100Z"
    }
   }
  },
  {
   "cell_type": "code",
   "execution_count": 29,
   "outputs": [
    {
     "data": {
      "text/plain": "0.47549019607843135"
     },
     "execution_count": 29,
     "metadata": {},
     "output_type": "execute_result"
    }
   ],
   "source": [
    "# Percentage of prompts that were stopped\n",
    "results.groupby(['prompt_id'])['terminated'].max().mean()"
   ],
   "metadata": {
    "collapsed": false,
    "ExecuteTime": {
     "end_time": "2023-05-19T17:29:42.608077700Z",
     "start_time": "2023-05-19T17:29:42.259413900Z"
    }
   }
  },
  {
   "cell_type": "code",
   "execution_count": 30,
   "outputs": [
    {
     "data": {
      "text/plain": "0    51\n1    18\n2    11\n3     9\n4     8\nName: image_id, dtype: int64"
     },
     "execution_count": 30,
     "metadata": {},
     "output_type": "execute_result"
    }
   ],
   "source": [
    "# Most often terminations step based on best image\n",
    "results[results['terminated'] == True]['image_id'].value_counts().sort_values(ascending=False)"
   ],
   "metadata": {
    "collapsed": false,
    "ExecuteTime": {
     "end_time": "2023-05-19T17:29:42.692512Z",
     "start_time": "2023-05-19T17:29:42.345912300Z"
    }
   }
  },
  {
   "cell_type": "code",
   "execution_count": 31,
   "outputs": [
    {
     "data": {
      "text/plain": "1.0206185567010309"
     },
     "execution_count": 31,
     "metadata": {},
     "output_type": "execute_result"
    }
   ],
   "source": [
    "# Average termination step for based image\n",
    "results[results['terminated'] == True]['image_id'].mean()"
   ],
   "metadata": {
    "collapsed": false,
    "ExecuteTime": {
     "end_time": "2023-05-19T17:29:42.925530500Z",
     "start_time": "2023-05-19T17:29:42.592452500Z"
    }
   }
  },
  {
   "cell_type": "code",
   "execution_count": 32,
   "outputs": [
    {
     "data": {
      "text/plain": "clip_score     0.816480\nspice_score    0.275023\ndtype: float64"
     },
     "execution_count": 32,
     "metadata": {},
     "output_type": "execute_result"
    }
   ],
   "source": [
    "# Average scores for stopped prompts\n",
    "results[results['terminated'] == True][scores].mean()"
   ],
   "metadata": {
    "collapsed": false,
    "ExecuteTime": {
     "end_time": "2023-05-19T17:29:43.125445400Z",
     "start_time": "2023-05-19T17:29:42.875797300Z"
    }
   }
  },
  {
   "cell_type": "markdown",
   "source": [
    "#### Best Image"
   ],
   "metadata": {
    "collapsed": false
   }
  },
  {
   "cell_type": "code",
   "execution_count": 33,
   "outputs": [
    {
     "data": {
      "text/plain": "<Figure size 640x480 with 1 Axes>",
      "image/png": "[encoded data removed]"
     },
     "metadata": {},
     "output_type": "display_data"
    }
   ],
   "source": [
    "df = results[['image_id','best_image']]\n",
    "\n",
    "filtered_df = df[df['best_image'] == 1]\n",
    "\n",
    "# Count the occurrences of each value in the second column\n",
    "grouped = filtered_df['image_id'].value_counts()\n",
    "\n",
    "# Create a pie chart based on the counts\n",
    "labels = grouped.index.tolist() # Get the unique values in the second column as labels\n",
    "plt.pie(grouped, labels=labels, autopct='%1.1f%%')\n",
    "plt.title(\"Percentage of Best image per iteration\")\n",
    "plt.show()\n"
   ],
   "metadata": {
    "collapsed": false,
    "ExecuteTime": {
     "end_time": "2023-05-19T17:29:43.592020500Z",
     "start_time": "2023-05-19T17:29:43.275614300Z"
    }
   }
  },
  {
   "cell_type": "code",
   "execution_count": 34,
   "outputs": [
    {
     "data": {
      "text/plain": "0    58\n2    36\n1    33\n3    27\n4    27\n5    18\nName: image_id, dtype: int64"
     },
     "execution_count": 34,
     "metadata": {},
     "output_type": "execute_result"
    }
   ],
   "source": [
    "# Most often terminations step based on best image\n",
    "results[results['best_image'] == True]['image_id'].value_counts().sort_values(ascending=False)"
   ],
   "metadata": {
    "collapsed": false,
    "ExecuteTime": {
     "end_time": "2023-05-19T17:29:43.629167400Z",
     "start_time": "2023-05-19T17:29:43.549951700Z"
    }
   }
  },
  {
   "cell_type": "code",
   "execution_count": 35,
   "outputs": [
    {
     "data": {
      "text/plain": "1.92964824120603"
     },
     "execution_count": 35,
     "metadata": {},
     "output_type": "execute_result"
    }
   ],
   "source": [
    "# Average termination step for based image\n",
    "results[results['best_image'] == True]['image_id'].mean()"
   ],
   "metadata": {
    "collapsed": false,
    "ExecuteTime": {
     "end_time": "2023-05-19T17:29:44.057133100Z",
     "start_time": "2023-05-19T17:29:43.809586900Z"
    }
   }
  },
  {
   "cell_type": "code",
   "execution_count": 36,
   "outputs": [
    {
     "data": {
      "text/plain": "clip_score     0.812849\nspice_score    0.218902\ndtype: float64"
     },
     "execution_count": 36,
     "metadata": {},
     "output_type": "execute_result"
    }
   ],
   "source": [
    "# Average scores for best image\n",
    "results[results['best_image'] == True][scores].mean()"
   ],
   "metadata": {
    "collapsed": false,
    "ExecuteTime": {
     "end_time": "2023-05-19T17:29:44.141250600Z",
     "start_time": "2023-05-19T17:29:43.991688100Z"
    }
   }
  },
  {
   "cell_type": "code",
   "execution_count": 37,
   "outputs": [
    {
     "ename": "ValueError",
     "evalue": "invalid literal for int() with base 10: ''",
     "output_type": "error",
     "traceback": [
      "\u001B[1;31m---------------------------------------------------------------------------\u001B[0m",
      "\u001B[1;31mValueError\u001B[0m                                Traceback (most recent call last)",
      "\u001B[1;32m~\\AppData\\Local\\Temp\\ipykernel_15744\\1615480220.py\u001B[0m in \u001B[0;36m<cell line: 1>\u001B[1;34m()\u001B[0m\n\u001B[1;32m----> 1\u001B[1;33m \u001B[0mprompt_id\u001B[0m \u001B[1;33m=\u001B[0m \u001B[0mint\u001B[0m\u001B[1;33m(\u001B[0m\u001B[0minput\u001B[0m\u001B[1;33m(\u001B[0m\u001B[1;34m\"Provide prompt_id\"\u001B[0m\u001B[1;33m)\u001B[0m\u001B[1;33m)\u001B[0m\u001B[1;33m\u001B[0m\u001B[1;33m\u001B[0m\u001B[0m\n\u001B[0m\u001B[0;32m      2\u001B[0m \u001B[1;32mfor\u001B[0m \u001B[0midx\u001B[0m\u001B[1;33m,\u001B[0m \u001B[0mrow\u001B[0m \u001B[1;32min\u001B[0m \u001B[0mresults\u001B[0m\u001B[1;33m[\u001B[0m\u001B[0mresults\u001B[0m\u001B[1;33m[\u001B[0m\u001B[1;34m'prompt_id'\u001B[0m\u001B[1;33m]\u001B[0m \u001B[1;33m==\u001B[0m \u001B[0mprompt_id\u001B[0m\u001B[1;33m]\u001B[0m\u001B[1;33m.\u001B[0m\u001B[0mreset_index\u001B[0m\u001B[1;33m(\u001B[0m\u001B[1;33m)\u001B[0m\u001B[1;33m.\u001B[0m\u001B[0miterrows\u001B[0m\u001B[1;33m(\u001B[0m\u001B[1;33m)\u001B[0m\u001B[1;33m:\u001B[0m\u001B[1;33m\u001B[0m\u001B[1;33m\u001B[0m\u001B[0m\n\u001B[0;32m      3\u001B[0m     \u001B[0mprint\u001B[0m\u001B[1;33m(\u001B[0m\u001B[1;34m'Iteration:'\u001B[0m\u001B[1;33m,\u001B[0m \u001B[0midx\u001B[0m \u001B[1;33m+\u001B[0m \u001B[1;36m1\u001B[0m\u001B[1;33m)\u001B[0m\u001B[1;33m\u001B[0m\u001B[1;33m\u001B[0m\u001B[0m\n\u001B[0;32m      4\u001B[0m     \u001B[1;32mif\u001B[0m \u001B[0mrow\u001B[0m\u001B[1;33m[\u001B[0m\u001B[1;34m'terminated'\u001B[0m\u001B[1;33m]\u001B[0m \u001B[1;33m==\u001B[0m \u001B[1;36m1\u001B[0m\u001B[1;33m:\u001B[0m\u001B[1;33m\u001B[0m\u001B[1;33m\u001B[0m\u001B[0m\n\u001B[0;32m      5\u001B[0m         \u001B[0mprint\u001B[0m\u001B[1;33m(\u001B[0m\u001B[1;34m'TERMINATED at this step'\u001B[0m\u001B[1;33m)\u001B[0m\u001B[1;33m\u001B[0m\u001B[1;33m\u001B[0m\u001B[0m\n",
      "\u001B[1;31mValueError\u001B[0m: invalid literal for int() with base 10: ''"
     ]
    }
   ],
   "source": [
    "prompt_id = int(input(\"Provide prompt_id\"))\n",
    "for idx, row in results[results['prompt_id'] == prompt_id].reset_index().iterrows():\n",
    "    print('Iteration:', idx + 1)\n",
    "    if row['terminated'] == 1:\n",
    "        print('TERMINATED at this step')\n",
    "    if row['best_image'] == 1:\n",
    "        print('BEST IMAGE according to LLM')\n",
    "    if idx == 0:\n",
    "        print('Original prompt:', row['optimized_prompt'])\n",
    "    else:\n",
    "        print('Optimized prompt:', row['optimized_prompt'])\n",
    "    print('Generated image:')\n",
    "    image = Image.open(row['image_path'])\n",
    "    display(image)\n",
    "    print('Caption:', row['caption'])\n",
    "    print('#################################################################################')"
   ],
   "metadata": {
    "collapsed": false,
    "ExecuteTime": {
     "end_time": "2023-05-19T17:29:46.076309800Z",
     "start_time": "2023-05-19T17:29:44.224927500Z"
    }
   }
  },
  {
   "cell_type": "code",
   "execution_count": null,
   "outputs": [],
   "source": [],
   "metadata": {
    "collapsed": false
   }
  }
 ],
 "metadata": {
  "kernelspec": {
   "display_name": "DL2",
   "language": "python",
   "name": "python3"
  },
  "language_info": {
   "codemirror_mode": {
    "name": "ipython",
    "version": 3
   },
   "file_extension": ".py",
   "mimetype": "text/x-python",
   "name": "python",
   "nbconvert_exporter": "python",
   "pygments_lexer": "ipython3",
   "version": "3.10.0"
  },
  "orig_nbformat": 4
 },
 "nbformat": 4,
 "nbformat_minor": 2
}
