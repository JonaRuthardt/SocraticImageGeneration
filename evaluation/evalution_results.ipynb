{
 "cells": [
  {
   "cell_type": "markdown",
   "source": [
    "### Imports"
   ],
   "metadata": {
    "collapsed": false
   }
  },
  {
   "cell_type": "code",
   "execution_count": 1,
   "metadata": {
    "ExecuteTime": {
     "end_time": "2023-05-21T21:31:29.484169700Z",
     "start_time": "2023-05-21T21:31:29.468539300Z"
    }
   },
   "outputs": [],
   "source": [
    "import os\n",
    "import pandas as pd\n",
    "import warnings\n",
    "from PIL import Image\n",
    "\n",
    "warnings.filterwarnings('ignore')"
   ]
  },
  {
   "cell_type": "markdown",
   "source": [
    "### Load data"
   ],
   "metadata": {
    "collapsed": false
   }
  },
  {
   "cell_type": "code",
   "execution_count": 2,
   "outputs": [],
   "source": [
    "os.chdir('..')"
   ],
   "metadata": {
    "collapsed": false,
    "ExecuteTime": {
     "end_time": "2023-05-21T21:31:40.682097700Z",
     "start_time": "2023-05-21T21:31:40.682097700Z"
    }
   }
  },
  {
   "cell_type": "code",
   "execution_count": 3,
   "outputs": [],
   "source": [
    "# 'test_results'\n",
    "experiment_name = input('Provide the name of the experiment folder')"
   ],
   "metadata": {
    "collapsed": false,
    "ExecuteTime": {
     "end_time": "2023-05-21T21:31:43.216877400Z",
     "start_time": "2023-05-21T21:31:41.014857200Z"
    }
   }
  },
  {
   "cell_type": "code",
   "execution_count": 4,
   "outputs": [],
   "source": [
    "evaluation_file = f'data/results/{experiment_name}/evaluation.tsv'"
   ],
   "metadata": {
    "collapsed": false,
    "ExecuteTime": {
     "end_time": "2023-05-21T21:31:44.078310Z",
     "start_time": "2023-05-21T21:31:44.015336600Z"
    }
   }
  },
  {
   "cell_type": "code",
   "execution_count": 5,
   "outputs": [],
   "source": [
    "results = pd.read_csv(evaluation_file, sep='\\t')"
   ],
   "metadata": {
    "collapsed": false,
    "ExecuteTime": {
     "end_time": "2023-05-21T21:31:44.875340500Z",
     "start_time": "2023-05-21T21:31:44.762953900Z"
    }
   }
  },
  {
   "cell_type": "code",
   "execution_count": 6,
   "outputs": [
    {
     "data": {
      "text/plain": "   prompt_id  image_id  clip_score  \\\n0          0         0    0.779375   \n1          0         1    0.765068   \n2          0         2    0.786328   \n3          0         3    0.752815   \n4          0         4    0.838345   \n\n                                         user_prompt  \\\n0  A couple of middle eastern dishes with fruit a...   \n1  A couple of middle eastern dishes with fruit a...   \n2  A couple of middle eastern dishes with fruit a...   \n3  A couple of middle eastern dishes with fruit a...   \n4  A couple of middle eastern dishes with fruit a...   \n\n                                    optimized_prompt  \\\n0  A couple of middle eastern dishes with fruit a...   \n1  A flavorful spread of Middle Eastern mezze dis...   \n2  A platter of middle eastern cuisine served wit...   \n3  A spread of Middle Eastern cuisine featuring a...   \n4  Middle Eastern mezze spread with tabbouleh sal...   \n\n                                             caption  \\\n0  a close up of a table with bowls of food and b...   \n1  a close up of a table with bowls of food and a...   \n2  there are four bowls of food on a table with s...   \n3  a close up of a table with bowls of food and b...   \n4  there are many different types of food on the ...   \n\n                                          image_path  img_sim_score  \\\n0  /home/lcur1713/SocraticImageGeneration/data/re...       0.549753   \n1  /home/lcur1713/SocraticImageGeneration/data/re...       0.598717   \n2  /home/lcur1713/SocraticImageGeneration/data/re...       0.614786   \n3  /home/lcur1713/SocraticImageGeneration/data/re...       0.555429   \n4  /home/lcur1713/SocraticImageGeneration/data/re...       0.600402   \n\n   spice_score  best_image  terminated  \n0     0.000000         0.0         0.0  \n1     0.105263         0.0         0.0  \n2     0.000000         0.0         0.0  \n3     0.111111         1.0         0.0  \n4     0.000000         0.0         0.0  ",
      "text/html": "<div>\n<style scoped>\n    .dataframe tbody tr th:only-of-type {\n        vertical-align: middle;\n    }\n\n    .dataframe tbody tr th {\n        vertical-align: top;\n    }\n\n    .dataframe thead th {\n        text-align: right;\n    }\n</style>\n<table border=\"1\" class=\"dataframe\">\n  <thead>\n    <tr style=\"text-align: right;\">\n      <th></th>\n      <th>prompt_id</th>\n      <th>image_id</th>\n      <th>clip_score</th>\n      <th>user_prompt</th>\n      <th>optimized_prompt</th>\n      <th>caption</th>\n      <th>image_path</th>\n      <th>img_sim_score</th>\n      <th>spice_score</th>\n      <th>best_image</th>\n      <th>terminated</th>\n    </tr>\n  </thead>\n  <tbody>\n    <tr>\n      <th>0</th>\n      <td>0</td>\n      <td>0</td>\n      <td>0.779375</td>\n      <td>A couple of middle eastern dishes with fruit a...</td>\n      <td>A couple of middle eastern dishes with fruit a...</td>\n      <td>a close up of a table with bowls of food and b...</td>\n      <td>/home/lcur1713/SocraticImageGeneration/data/re...</td>\n      <td>0.549753</td>\n      <td>0.000000</td>\n      <td>0.0</td>\n      <td>0.0</td>\n    </tr>\n    <tr>\n      <th>1</th>\n      <td>0</td>\n      <td>1</td>\n      <td>0.765068</td>\n      <td>A couple of middle eastern dishes with fruit a...</td>\n      <td>A flavorful spread of Middle Eastern mezze dis...</td>\n      <td>a close up of a table with bowls of food and a...</td>\n      <td>/home/lcur1713/SocraticImageGeneration/data/re...</td>\n      <td>0.598717</td>\n      <td>0.105263</td>\n      <td>0.0</td>\n      <td>0.0</td>\n    </tr>\n    <tr>\n      <th>2</th>\n      <td>0</td>\n      <td>2</td>\n      <td>0.786328</td>\n      <td>A couple of middle eastern dishes with fruit a...</td>\n      <td>A platter of middle eastern cuisine served wit...</td>\n      <td>there are four bowls of food on a table with s...</td>\n      <td>/home/lcur1713/SocraticImageGeneration/data/re...</td>\n      <td>0.614786</td>\n      <td>0.000000</td>\n      <td>0.0</td>\n      <td>0.0</td>\n    </tr>\n    <tr>\n      <th>3</th>\n      <td>0</td>\n      <td>3</td>\n      <td>0.752815</td>\n      <td>A couple of middle eastern dishes with fruit a...</td>\n      <td>A spread of Middle Eastern cuisine featuring a...</td>\n      <td>a close up of a table with bowls of food and b...</td>\n      <td>/home/lcur1713/SocraticImageGeneration/data/re...</td>\n      <td>0.555429</td>\n      <td>0.111111</td>\n      <td>1.0</td>\n      <td>0.0</td>\n    </tr>\n    <tr>\n      <th>4</th>\n      <td>0</td>\n      <td>4</td>\n      <td>0.838345</td>\n      <td>A couple of middle eastern dishes with fruit a...</td>\n      <td>Middle Eastern mezze spread with tabbouleh sal...</td>\n      <td>there are many different types of food on the ...</td>\n      <td>/home/lcur1713/SocraticImageGeneration/data/re...</td>\n      <td>0.600402</td>\n      <td>0.000000</td>\n      <td>0.0</td>\n      <td>0.0</td>\n    </tr>\n  </tbody>\n</table>\n</div>"
     },
     "execution_count": 6,
     "metadata": {},
     "output_type": "execute_result"
    }
   ],
   "source": [
    "results.head()"
   ],
   "metadata": {
    "collapsed": false,
    "ExecuteTime": {
     "end_time": "2023-05-21T21:31:45.189183600Z",
     "start_time": "2023-05-21T21:31:45.126225200Z"
    }
   }
  },
  {
   "cell_type": "code",
   "execution_count": 7,
   "outputs": [],
   "source": [
    "# Define columns with scores\n",
    "scores = ['clip_score','spice_score']\n",
    "coco = False\n",
    "if 'img_sim_score'  in results.columns:\n",
    "    coco = True\n",
    "    scores.append('img_sim_score')\n"
   ],
   "metadata": {
    "collapsed": false,
    "ExecuteTime": {
     "end_time": "2023-05-21T21:31:46.012814100Z",
     "start_time": "2023-05-21T21:31:45.981571500Z"
    }
   }
  },
  {
   "cell_type": "markdown",
   "source": [
    "### Results"
   ],
   "metadata": {
    "collapsed": false
   }
  },
  {
   "cell_type": "code",
   "execution_count": 8,
   "outputs": [
    {
     "data": {
      "text/plain": "Index(['prompt_id', 'image_id', 'clip_score', 'user_prompt',\n       'optimized_prompt', 'caption', 'image_path', 'img_sim_score',\n       'spice_score', 'best_image', 'terminated'],\n      dtype='object')"
     },
     "execution_count": 8,
     "metadata": {},
     "output_type": "execute_result"
    }
   ],
   "source": [
    "#prompt_num = results['prompt_id'].nunique()\n",
    "#optimization_step_num = results.groupby(['prompt_id'])['image_id'].count().max()\n",
    "results.columns"
   ],
   "metadata": {
    "collapsed": false,
    "ExecuteTime": {
     "end_time": "2023-05-21T21:31:46.341355100Z",
     "start_time": "2023-05-21T21:31:46.325309500Z"
    }
   }
  },
  {
   "cell_type": "code",
   "execution_count": 9,
   "outputs": [],
   "source": [
    "# change the max_iteration if it is not 5\n",
    "max_iteration = 5\n",
    "if coco:\n",
    "    step= max_iteration+2\n",
    "else:\n",
    "    step=max_iteration+1"
   ],
   "metadata": {
    "collapsed": false,
    "ExecuteTime": {
     "end_time": "2023-05-21T21:31:46.710124600Z",
     "start_time": "2023-05-21T21:31:46.678870Z"
    }
   }
  },
  {
   "cell_type": "markdown",
   "source": [
    "#### Percentage of generated image better than the reference one (works only for COCO dataset)"
   ],
   "metadata": {
    "collapsed": false
   }
  },
  {
   "cell_type": "code",
   "execution_count": 10,
   "outputs": [],
   "source": [
    "# df = results[['image_id','clip_score','terminated']]\n",
    "# num_better_score_than_initial = 0\n",
    "# # for every original image (6,13,20..)\n",
    "# for i in range(6, len(df), 7):\n",
    "#     terminated = False\n",
    "#     # check all the generated images (0..5, 7..12,...)\n",
    "#     for j in range(i-1,i-7,-1):\n",
    "#         if df.loc[j,'terminated']==1:\n",
    "#             terminated = True\n",
    "#         # if it was terminated and the score was higher than the initial increase the counter\n",
    "#         if df.loc[j,'terminated']==1 and df.loc[i, \"image_id\"] == -1 and df.loc[j, \"clip_score\"] >= df.loc[i, \"clip_score\"]:\n",
    "#            num_better_score_than_initial +=1\n",
    "#\n",
    "#     # It can be the case that it wasn't terminated and thus we chose the last image (5th iteration)\n",
    "#     # then check if the last image has better result than the initial one\n",
    "#     if not terminated and df.loc[i, \"image_id\"] == -1 and df.loc[i-1, \"clip_score\"] >= df.loc[i, \"clip_score\"]:\n",
    "#         num_better_score_than_initial += 1\n",
    "# num_prompts = len(df)/7\n",
    "# print(\"The clip score at the terminated step was better than the initial\", (num_better_score_than_initial/num_prompts)*100, \"% of the times\")"
   ],
   "metadata": {
    "collapsed": false,
    "ExecuteTime": {
     "end_time": "2023-05-21T21:31:47.141939300Z",
     "start_time": "2023-05-21T21:31:47.110254400Z"
    }
   }
  },
  {
   "cell_type": "markdown",
   "source": [
    "#### How many times the terminated image is at least as good as the image 0 (Terminate_clipscore>=image_0_clipscore)"
   ],
   "metadata": {
    "collapsed": false
   }
  },
  {
   "cell_type": "code",
   "execution_count": 11,
   "outputs": [
    {
     "name": "stdout",
     "output_type": "stream",
     "text": [
      "The clip score at the terminated step was better than the initial 62.0 % of the times\n"
     ]
    }
   ],
   "source": [
    "df = results[['image_id','clip_score','terminated']]\n",
    "num_better_score_than_initial = 0\n",
    "# for every original image (6,13,20..)\n",
    "\n",
    "for i in range(0, len(df), step):\n",
    "    terminated = False\n",
    "    # check all the generated images (0..5, 7..12,...)\n",
    "    for j in range(i,i+step,1):\n",
    "\n",
    "        if df.loc[j,'terminated']==1:\n",
    "            terminated = True\n",
    "        # if it was terminated and the score was higher than the initial increase the counter\n",
    "        if df.loc[j,'terminated']==1 and df.loc[i, \"image_id\"] == 0 and df.loc[j, \"clip_score\"] >= df.loc[i, \"clip_score\"]:\n",
    "           num_better_score_than_initial +=1\n",
    "    # It can be the case that it wasn't terminated and thus we chose the last image (5th iteration)\n",
    "    # then check if the last image has better result than the initial one\n",
    "    if not terminated and df.loc[i, \"image_id\"] == 0 and df.loc[j, \"clip_score\"] >= df.loc[i, \"clip_score\"]:\n",
    "        num_better_score_than_initial += 1\n",
    "num_prompts = len(df)/step\n",
    "print(\"The clip score at the terminated step was better than the initial\", (num_better_score_than_initial/num_prompts)*100, \"% of the times\")"
   ],
   "metadata": {
    "collapsed": false,
    "ExecuteTime": {
     "end_time": "2023-05-21T21:31:47.696296300Z",
     "start_time": "2023-05-21T21:31:47.617722900Z"
    }
   }
  },
  {
   "cell_type": "markdown",
   "source": [
    "#### How many times the best image is at least as good as the image 0 (Best_image_clipscore>=image_0_clipscore)"
   ],
   "metadata": {
    "collapsed": false
   }
  },
  {
   "cell_type": "code",
   "execution_count": 12,
   "outputs": [
    {
     "name": "stdout",
     "output_type": "stream",
     "text": [
      "The clip score of the best image was better than the initial 56.99999999999999 % of the times\n"
     ]
    }
   ],
   "source": [
    "df = results[['image_id','clip_score','best_image']]\n",
    "num_better_score_than_initial = 0\n",
    "# for every original image (6,13,20..)\n",
    "\n",
    "for i in range(0, len(df), step):\n",
    "    terminated = False\n",
    "    # check all the generated images (0..5, 7..12,...)\n",
    "    for j in range(i,i+step,1):\n",
    "        # if it was terminated and the score was higher than the initial increase the counter\n",
    "        if df.loc[j,'best_image']==1 and df.loc[i, \"image_id\"] == 0 and df.loc[j, \"clip_score\"] >= df.loc[i, \"clip_score\"]:\n",
    "           num_better_score_than_initial +=1\n",
    "\n",
    "num_prompts = len(df)/step\n",
    "print(\"The clip score of the best image was better than the initial\", (num_better_score_than_initial/num_prompts)*100, \"% of the times\")"
   ],
   "metadata": {
    "collapsed": false,
    "ExecuteTime": {
     "end_time": "2023-05-21T21:31:48.246656Z",
     "start_time": "2023-05-21T21:31:48.199350900Z"
    }
   }
  },
  {
   "cell_type": "markdown",
   "source": [
    "#### How many times the best image was better than the reference image ? (in terms of clip score) COCO-only"
   ],
   "metadata": {
    "collapsed": false
   }
  },
  {
   "cell_type": "code",
   "execution_count": 13,
   "outputs": [],
   "source": [
    "# df = results[['image_id','clip_score','best_image']]\n",
    "# num_better_score_than_initial = 0\n",
    "# # for every original image (6,13,20..)\n",
    "# for i in range(6, len(df), 7):\n",
    "#     # check all the generated images (0..5, 7..12,...)\n",
    "#     for j in range(i-1,i-7,-1):\n",
    "#         # if it was the best image and the score was higher than the initial increase the counter\n",
    "#         if df.loc[j,'best_image']==1 and df.loc[i, \"image_id\"] == -1 and df.loc[j, \"clip_score\"] >= df.loc[i, \"clip_score\"]:\n",
    "#            num_better_score_than_initial +=1\n",
    "#\n",
    "# num_prompts = len(df)/7\n",
    "# print(\"The clip score of the best image according to LLM was better than the initial\", (num_better_score_than_initial/num_prompts)*100, \"% of the times\")"
   ],
   "metadata": {
    "collapsed": false,
    "ExecuteTime": {
     "end_time": "2023-05-21T21:31:48.681739200Z",
     "start_time": "2023-05-21T21:31:48.643300200Z"
    }
   }
  },
  {
   "cell_type": "markdown",
   "source": [
    "#### How many times the terminated (or best image) image score is the highest score?"
   ],
   "metadata": {
    "collapsed": false
   }
  },
  {
   "cell_type": "code",
   "execution_count": 14,
   "outputs": [
    {
     "name": "stdout",
     "output_type": "stream",
     "text": [
      "The score of the terminated image is the highest score  25.0 % of the times\n"
     ]
    }
   ],
   "source": [
    "term_or_best = \"terminated\" # change to best_image for best image comparison\n",
    "df = results[['image_id','clip_score',term_or_best]]\n",
    "num_agree = 0\n",
    "# for every original image (6,13,20..)\n",
    "\n",
    "for i in range(0, len(df), step):\n",
    "    terminated_score=0\n",
    "    max_score = 0\n",
    "    # check all the generated images (0..5, 7..12,...)\n",
    "    for j in range(i,i+step,1):\n",
    "        if df.loc[j,term_or_best]==1:\n",
    "            terminated_score = df.loc[j,'clip_score']\n",
    "        if df.loc[j,'image_id'] != -1 and df.loc[j,'clip_score'] > max_score:\n",
    "            max_score = df.loc[j,'clip_score']\n",
    "\n",
    "    # if no terminated image then use the last image as terminated\n",
    "    if terminated_score == 0:\n",
    "        if df.loc[j,'image_id'] != -1:\n",
    "            terminated_score = df.loc[j,'clip_score']\n",
    "        elif df.loc[j-1,'image_id'] != -1:\n",
    "            terminated_score = df.loc[j-1,'clip_score']\n",
    "    if terminated_score == max_score:\n",
    "        num_agree+=1\n",
    "# print(num_agree)\n",
    "num_prompts = len(df)/step\n",
    "print(\"The score of the terminated image is the highest score \", (num_agree/num_prompts)*100, \"% of the times\")"
   ],
   "metadata": {
    "collapsed": false,
    "ExecuteTime": {
     "end_time": "2023-05-21T21:31:49.172688100Z",
     "start_time": "2023-05-21T21:31:49.077575900Z"
    }
   }
  },
  {
   "cell_type": "markdown",
   "source": [
    "#### How many times there was a generation of an image that had higher score than the image 0? (Score(img1-5) > score(img0))"
   ],
   "metadata": {
    "collapsed": false
   }
  },
  {
   "cell_type": "code",
   "execution_count": 15,
   "outputs": [
    {
     "name": "stdout",
     "output_type": "stream",
     "text": [
      "The clip score of the best image according to LLM was better than the initial 66.0 % of the times\n"
     ]
    }
   ],
   "source": [
    "df = results[['image_id','clip_score']]\n",
    "num_better_score_than_initial = 0\n",
    "# for every original image (6,13,20..)\n",
    "for i in range(0, len(df), step):\n",
    "    # check all the generated images (0..5, 7..12,...)\n",
    "\n",
    "    for j in range(i,i+step,1):\n",
    "        # if it was the best image and the score was higher than the initial increase the counter\n",
    "        if df.loc[i, \"image_id\"] == 0 and  df.loc[j, \"image_id\"] != -1 and df.loc[j, \"clip_score\"] > df.loc[i, \"clip_score\"]:\n",
    "            num_better_score_than_initial +=1\n",
    "            break\n",
    "\n",
    "num_prompts = len(df)/step\n",
    "print(\"The clip score of the best image according to LLM was better than the initial\", (num_better_score_than_initial/num_prompts)*100, \"% of the times\")"
   ],
   "metadata": {
    "collapsed": false,
    "ExecuteTime": {
     "end_time": "2023-05-21T21:31:49.589956900Z",
     "start_time": "2023-05-21T21:31:49.545130Z"
    }
   }
  },
  {
   "cell_type": "markdown",
   "source": [
    "#### Average scores"
   ],
   "metadata": {
    "collapsed": false
   }
  },
  {
   "cell_type": "code",
   "execution_count": 16,
   "outputs": [],
   "source": [
    "import matplotlib.pyplot as plt\n",
    "import seaborn as sns"
   ],
   "metadata": {
    "collapsed": false,
    "ExecuteTime": {
     "end_time": "2023-05-21T21:31:49.971922600Z",
     "start_time": "2023-05-21T21:31:49.956284900Z"
    }
   }
  },
  {
   "cell_type": "code",
   "execution_count": 17,
   "outputs": [],
   "source": [
    "scores_w_id = scores.copy()\n",
    "scores_w_id.append('image_id')"
   ],
   "metadata": {
    "collapsed": false,
    "ExecuteTime": {
     "end_time": "2023-05-21T21:31:50.216392600Z",
     "start_time": "2023-05-21T21:31:50.185131900Z"
    }
   }
  },
  {
   "cell_type": "code",
   "execution_count": 18,
   "outputs": [
    {
     "data": {
      "text/plain": "<Figure size 640x480 with 1 Axes>",
      "image/png": "[encoded data removed]"
     },
     "metadata": {},
     "output_type": "display_data"
    },
    {
     "data": {
      "text/plain": "<Figure size 640x480 with 1 Axes>",
      "image/png": "[encoded data removed]"
     },
     "metadata": {},
     "output_type": "display_data"
    }
   ],
   "source": [
    "df = results[scores_w_id]\n",
    "df_terminated = results[results['terminated'] == True][scores_w_id]\n",
    "df_terminated['image_id'] = 'termi-\\nnated'\n",
    "df_best_image =  results[results['best_image'] == True][scores_w_id]\n",
    "df_best_image['image_id'] = 'best\\nimage'\n",
    "df = df.append(df_terminated)\n",
    "df = df.append(df_best_image)\n",
    "df.loc[df['image_id']== -1, 'image_id']= 'reference\\nimage'\n",
    "\n",
    "max_clip = results.groupby(by='prompt_id')['clip_score'].max()\n",
    "max_spice = results.groupby(by='prompt_id')['spice_score'].max()\n",
    "max_scores = pd.merge(max_clip, max_spice, on='prompt_id', how='left')\n",
    "\n",
    "# If it is the coco dataset then we have img_sim_score, otherwise we don't\n",
    "if coco:\n",
    "    max_img_sim = results.groupby(by='prompt_id')['img_sim_score'].max()\n",
    "    max_scores = pd.merge(max_scores, max_img_sim, on='prompt_id', how='left')\n",
    "\n",
    "\n",
    "max_scores['image_id']='max\\nscores'\n",
    "df = df.append(max_scores)\n",
    "\n",
    "# clip scores\n",
    "columns_clip = ['image_id','clip_score']\n",
    "sns.boxplot(x='image_id', y='clip_score', data=df[columns_clip])\n",
    "plt.xlabel('Iteration/method')\n",
    "plt.title(\"Clip Score\")\n",
    "plt.show()\n",
    "\n",
    "# spice score\n",
    "# filtered_df = df[df['image_id'] != 'reference\\nimage' ]\n",
    "# columns_spice = ['image_id','spice_score']\n",
    "# sns.boxplot(x='image_id', y='spice_score', data=filtered_df[columns_spice])\n",
    "# plt.title(\"Spice Score boxplot for each Iteration\")\n",
    "# plt.show()\n",
    "\n",
    "# If it is the coco dataset then we have img_sim_score, otherwise we don't\n",
    "if coco:\n",
    "    filtered_df = df[df['image_id'] != 'reference\\nimage' ]\n",
    "    columns_img_sim = ['image_id','img_sim_score']\n",
    "    sns.boxplot(x='image_id', y='img_sim_score', data=filtered_df[columns_img_sim])\n",
    "    plt.xlabel('Iteration/method')\n",
    "    plt.title(\"Image similarity score\")\n",
    "    plt.show()"
   ],
   "metadata": {
    "collapsed": false,
    "ExecuteTime": {
     "end_time": "2023-05-21T21:31:51.739537400Z",
     "start_time": "2023-05-21T21:31:50.451408700Z"
    }
   }
  },
  {
   "cell_type": "code",
   "execution_count": 19,
   "outputs": [
    {
     "data": {
      "text/plain": "clip_score       0.764672\nspice_score      0.249833\nimg_sim_score    0.563663\ndtype: float64"
     },
     "execution_count": 19,
     "metadata": {},
     "output_type": "execute_result"
    }
   ],
   "source": [
    "# Average scores for all prompts\n",
    "results[scores].mean()"
   ],
   "metadata": {
    "collapsed": false,
    "ExecuteTime": {
     "end_time": "2023-05-21T21:31:51.949387700Z",
     "start_time": "2023-05-21T21:31:51.739537400Z"
    }
   }
  },
  {
   "cell_type": "markdown",
   "source": [
    "#### Average scores per prompt"
   ],
   "metadata": {
    "collapsed": false
   }
  },
  {
   "cell_type": "code",
   "execution_count": 20,
   "outputs": [
    {
     "data": {
      "text/plain": "          prompt_id  clip_score  img_sim_score  spice_score  best_image  \\\nimage_id                                                                  \n-1             99.5    0.765889            NaN          NaN         NaN   \n 0             99.5    0.807646       0.584825     0.275467       0.255   \n 1             99.5    0.750330       0.561018     0.237487       0.210   \n 2             99.5    0.750917       0.567103     0.235991       0.150   \n 3             99.5    0.760761       0.565579     0.251509       0.140   \n 4             99.5    0.758998       0.563907     0.251313       0.165   \n 5             99.5    0.758166       0.539547     0.247231       0.075   \n\n          terminated  \nimage_id              \n-1               NaN  \n 0             0.355  \n 1             0.165  \n 2             0.075  \n 3             0.085  \n 4             0.055  \n 5             0.000  ",
      "text/html": "<div>\n<style scoped>\n    .dataframe tbody tr th:only-of-type {\n        vertical-align: middle;\n    }\n\n    .dataframe tbody tr th {\n        vertical-align: top;\n    }\n\n    .dataframe thead th {\n        text-align: right;\n    }\n</style>\n<table border=\"1\" class=\"dataframe\">\n  <thead>\n    <tr style=\"text-align: right;\">\n      <th></th>\n      <th>prompt_id</th>\n      <th>clip_score</th>\n      <th>img_sim_score</th>\n      <th>spice_score</th>\n      <th>best_image</th>\n      <th>terminated</th>\n    </tr>\n    <tr>\n      <th>image_id</th>\n      <th></th>\n      <th></th>\n      <th></th>\n      <th></th>\n      <th></th>\n      <th></th>\n    </tr>\n  </thead>\n  <tbody>\n    <tr>\n      <th>-1</th>\n      <td>99.5</td>\n      <td>0.765889</td>\n      <td>NaN</td>\n      <td>NaN</td>\n      <td>NaN</td>\n      <td>NaN</td>\n    </tr>\n    <tr>\n      <th>0</th>\n      <td>99.5</td>\n      <td>0.807646</td>\n      <td>0.584825</td>\n      <td>0.275467</td>\n      <td>0.255</td>\n      <td>0.355</td>\n    </tr>\n    <tr>\n      <th>1</th>\n      <td>99.5</td>\n      <td>0.750330</td>\n      <td>0.561018</td>\n      <td>0.237487</td>\n      <td>0.210</td>\n      <td>0.165</td>\n    </tr>\n    <tr>\n      <th>2</th>\n      <td>99.5</td>\n      <td>0.750917</td>\n      <td>0.567103</td>\n      <td>0.235991</td>\n      <td>0.150</td>\n      <td>0.075</td>\n    </tr>\n    <tr>\n      <th>3</th>\n      <td>99.5</td>\n      <td>0.760761</td>\n      <td>0.565579</td>\n      <td>0.251509</td>\n      <td>0.140</td>\n      <td>0.085</td>\n    </tr>\n    <tr>\n      <th>4</th>\n      <td>99.5</td>\n      <td>0.758998</td>\n      <td>0.563907</td>\n      <td>0.251313</td>\n      <td>0.165</td>\n      <td>0.055</td>\n    </tr>\n    <tr>\n      <th>5</th>\n      <td>99.5</td>\n      <td>0.758166</td>\n      <td>0.539547</td>\n      <td>0.247231</td>\n      <td>0.075</td>\n      <td>0.000</td>\n    </tr>\n  </tbody>\n</table>\n</div>"
     },
     "execution_count": 20,
     "metadata": {},
     "output_type": "execute_result"
    }
   ],
   "source": [
    "results.groupby(['image_id']).mean()"
   ],
   "metadata": {
    "collapsed": false,
    "ExecuteTime": {
     "end_time": "2023-05-21T21:31:52.121667400Z",
     "start_time": "2023-05-21T21:31:51.755572400Z"
    }
   }
  },
  {
   "cell_type": "code",
   "execution_count": 21,
   "outputs": [
    {
     "data": {
      "text/plain": "                                                              clip_score  \\\nprompt_id user_prompt                                                      \n0         A couple of middle eastern dishes with fruit an...    0.776064   \n1         Full course dinner served on large plate includ...    0.733332   \n2         This room is decorated in a simple yet elegant ...    0.646139   \n3         A man carrying a large US flag on a horse ridin...    0.906635   \n4         A woman with a braid holds her dog in her lap.        0.703186   \n...                                                                  ...   \n195       Sheep graze in a large field with trees behind ...    0.771189   \n196       there is a young boy eating a piece of cake           0.744687   \n197       Two toilets that are sitting on a tile floor.         0.794545   \n198       A man riding on the back of a green motorcycle.       0.844950   \n199       a green bench sitting on the side of a wall           0.887856   \n\n                                                              spice_score  \\\nprompt_id user_prompt                                                       \n0         A couple of middle eastern dishes with fruit an...     0.036062   \n1         Full course dinner served on large plate includ...     0.131645   \n2         This room is decorated in a simple yet elegant ...     0.086247   \n3         A man carrying a large US flag on a horse ridin...     0.352338   \n4         A woman with a braid holds her dog in her lap.         0.289114   \n...                                                                   ...   \n195       Sheep graze in a large field with trees behind ...     0.199370   \n196       there is a young boy eating a piece of cake            0.327869   \n197       Two toilets that are sitting on a tile floor.          0.178571   \n198       A man riding on the back of a green motorcycle.        0.267929   \n199       a green bench sitting on the side of a wall            0.490404   \n\n                                                              img_sim_score  \nprompt_id user_prompt                                                        \n0         A couple of middle eastern dishes with fruit an...       0.574663  \n1         Full course dinner served on large plate includ...       0.506301  \n2         This room is decorated in a simple yet elegant ...       0.525059  \n3         A man carrying a large US flag on a horse ridin...       0.561215  \n4         A woman with a braid holds her dog in her lap.           0.459170  \n...                                                                     ...  \n195       Sheep graze in a large field with trees behind ...       0.718297  \n196       there is a young boy eating a piece of cake              0.509339  \n197       Two toilets that are sitting on a tile floor.            0.587402  \n198       A man riding on the back of a green motorcycle.          0.543413  \n199       a green bench sitting on the side of a wall              0.670741  \n\n[200 rows x 3 columns]",
      "text/html": "<div>\n<style scoped>\n    .dataframe tbody tr th:only-of-type {\n        vertical-align: middle;\n    }\n\n    .dataframe tbody tr th {\n        vertical-align: top;\n    }\n\n    .dataframe thead th {\n        text-align: right;\n    }\n</style>\n<table border=\"1\" class=\"dataframe\">\n  <thead>\n    <tr style=\"text-align: right;\">\n      <th></th>\n      <th></th>\n      <th>clip_score</th>\n      <th>spice_score</th>\n      <th>img_sim_score</th>\n    </tr>\n    <tr>\n      <th>prompt_id</th>\n      <th>user_prompt</th>\n      <th></th>\n      <th></th>\n      <th></th>\n    </tr>\n  </thead>\n  <tbody>\n    <tr>\n      <th>0</th>\n      <th>A couple of middle eastern dishes with fruit and herbs.</th>\n      <td>0.776064</td>\n      <td>0.036062</td>\n      <td>0.574663</td>\n    </tr>\n    <tr>\n      <th>1</th>\n      <th>Full course dinner served on large plate including drinks and dessert.</th>\n      <td>0.733332</td>\n      <td>0.131645</td>\n      <td>0.506301</td>\n    </tr>\n    <tr>\n      <th>2</th>\n      <th>This room is decorated in a simple yet elegant style.</th>\n      <td>0.646139</td>\n      <td>0.086247</td>\n      <td>0.525059</td>\n    </tr>\n    <tr>\n      <th>3</th>\n      <th>A man carrying a large US flag on a horse riding down a town street</th>\n      <td>0.906635</td>\n      <td>0.352338</td>\n      <td>0.561215</td>\n    </tr>\n    <tr>\n      <th>4</th>\n      <th>A woman with a braid holds her dog in her lap.</th>\n      <td>0.703186</td>\n      <td>0.289114</td>\n      <td>0.459170</td>\n    </tr>\n    <tr>\n      <th>...</th>\n      <th>...</th>\n      <td>...</td>\n      <td>...</td>\n      <td>...</td>\n    </tr>\n    <tr>\n      <th>195</th>\n      <th>Sheep graze in a large field with trees behind them.</th>\n      <td>0.771189</td>\n      <td>0.199370</td>\n      <td>0.718297</td>\n    </tr>\n    <tr>\n      <th>196</th>\n      <th>there is a young boy eating a piece of cake</th>\n      <td>0.744687</td>\n      <td>0.327869</td>\n      <td>0.509339</td>\n    </tr>\n    <tr>\n      <th>197</th>\n      <th>Two toilets that are sitting on a tile floor.</th>\n      <td>0.794545</td>\n      <td>0.178571</td>\n      <td>0.587402</td>\n    </tr>\n    <tr>\n      <th>198</th>\n      <th>A man riding on the back of a green motorcycle.</th>\n      <td>0.844950</td>\n      <td>0.267929</td>\n      <td>0.543413</td>\n    </tr>\n    <tr>\n      <th>199</th>\n      <th>a green bench sitting on the side of a wall</th>\n      <td>0.887856</td>\n      <td>0.490404</td>\n      <td>0.670741</td>\n    </tr>\n  </tbody>\n</table>\n<p>200 rows × 3 columns</p>\n</div>"
     },
     "execution_count": 21,
     "metadata": {},
     "output_type": "execute_result"
    }
   ],
   "source": [
    "# Average scores per prompt\n",
    "results.groupby(['prompt_id','user_prompt'])[scores].mean()"
   ],
   "metadata": {
    "collapsed": false,
    "ExecuteTime": {
     "end_time": "2023-05-21T21:31:52.153391Z",
     "start_time": "2023-05-21T21:31:51.802467Z"
    }
   }
  },
  {
   "cell_type": "code",
   "execution_count": 21,
   "outputs": [],
   "source": [],
   "metadata": {
    "collapsed": false,
    "ExecuteTime": {
     "end_time": "2023-05-21T21:31:52.153391Z",
     "start_time": "2023-05-21T21:31:51.849235300Z"
    }
   }
  },
  {
   "cell_type": "markdown",
   "source": [
    "#### Early stopping"
   ],
   "metadata": {
    "collapsed": false
   }
  },
  {
   "cell_type": "code",
   "execution_count": 22,
   "outputs": [
    {
     "data": {
      "text/plain": "<Figure size 640x480 with 1 Axes>",
      "image/png": "[encoded data removed]"
     },
     "metadata": {},
     "output_type": "display_data"
    }
   ],
   "source": [
    "df = results[['image_id','terminated']]\n",
    "\n",
    "filtered_df = df[df['terminated'] == 1]\n",
    "\n",
    "# Count the occurrences of each value in the second column\n",
    "grouped = filtered_df['image_id'].value_counts()\n",
    "\n",
    "# these two lines add also the number of times that it wasn't terminated in the index 5\n",
    "last_round = pd.Series([(len(df)/step)-grouped.sum()],index=[\"Max Iteration Reached\"])\n",
    "grouped = grouped.append(last_round)\n",
    "\n",
    "# Create a pie chart based on the counts\n",
    "labels = grouped.index.tolist() # Get the unique values in the second column as labels\n",
    "plt.pie(grouped, labels=labels, autopct='%1.1f%%')\n",
    "plt.title(\"Percentage of early stopping in every iteration\")\n",
    "plt.show()\n"
   ],
   "metadata": {
    "collapsed": false,
    "ExecuteTime": {
     "end_time": "2023-05-21T21:31:52.640108700Z",
     "start_time": "2023-05-21T21:31:52.106046100Z"
    }
   }
  },
  {
   "cell_type": "code",
   "execution_count": 23,
   "outputs": [
    {
     "data": {
      "text/plain": "0.735"
     },
     "execution_count": 23,
     "metadata": {},
     "output_type": "execute_result"
    }
   ],
   "source": [
    "# Percentage of prompts that were stopped\n",
    "results.groupby(['prompt_id'])['terminated'].max().mean()"
   ],
   "metadata": {
    "collapsed": false,
    "ExecuteTime": {
     "end_time": "2023-05-21T21:31:53.001313800Z",
     "start_time": "2023-05-21T21:31:52.452118200Z"
    }
   }
  },
  {
   "cell_type": "code",
   "execution_count": 24,
   "outputs": [
    {
     "data": {
      "text/plain": "0    71\n1    33\n3    17\n2    15\n4    11\nName: image_id, dtype: int64"
     },
     "execution_count": 24,
     "metadata": {},
     "output_type": "execute_result"
    }
   ],
   "source": [
    "# Most often terminations step based on best image\n",
    "results[results['terminated'] == True]['image_id'].value_counts().sort_values(ascending=False)"
   ],
   "metadata": {
    "collapsed": false,
    "ExecuteTime": {
     "end_time": "2023-05-21T21:31:53.079028700Z",
     "start_time": "2023-05-21T21:31:52.750966400Z"
    }
   }
  },
  {
   "cell_type": "code",
   "execution_count": 25,
   "outputs": [
    {
     "data": {
      "text/plain": "1.0748299319727892"
     },
     "execution_count": 25,
     "metadata": {},
     "output_type": "execute_result"
    }
   ],
   "source": [
    "# Average termination step for based image\n",
    "results[results['terminated'] == True]['image_id'].mean()"
   ],
   "metadata": {
    "collapsed": false,
    "ExecuteTime": {
     "end_time": "2023-05-21T21:31:53.220172800Z",
     "start_time": "2023-05-21T21:31:53.079028700Z"
    }
   }
  },
  {
   "cell_type": "code",
   "execution_count": 26,
   "outputs": [
    {
     "data": {
      "text/plain": "clip_score       0.815444\nspice_score      0.327987\nimg_sim_score    0.593408\ndtype: float64"
     },
     "execution_count": 26,
     "metadata": {},
     "output_type": "execute_result"
    }
   ],
   "source": [
    "# Average scores for stopped prompts\n",
    "results[results['terminated'] == True][scores].mean()"
   ],
   "metadata": {
    "collapsed": false,
    "ExecuteTime": {
     "end_time": "2023-05-21T21:31:53.728532900Z",
     "start_time": "2023-05-21T21:31:53.381167700Z"
    }
   }
  },
  {
   "cell_type": "markdown",
   "source": [
    "#### Best Image"
   ],
   "metadata": {
    "collapsed": false
   }
  },
  {
   "cell_type": "code",
   "execution_count": 27,
   "outputs": [
    {
     "data": {
      "text/plain": "<Figure size 640x480 with 1 Axes>",
      "image/png": "[encoded data removed]"
     },
     "metadata": {},
     "output_type": "display_data"
    }
   ],
   "source": [
    "df = results[['image_id','best_image']]\n",
    "\n",
    "filtered_df = df[df['best_image'] == 1]\n",
    "\n",
    "# Count the occurrences of each value in the second column\n",
    "grouped = filtered_df['image_id'].value_counts()\n",
    "\n",
    "# Create a pie chart based on the counts\n",
    "labels = grouped.index.tolist() # Get the unique values in the second column as labels\n",
    "plt.pie(grouped, labels=labels, autopct='%1.1f%%')\n",
    "plt.title(\"Percentage of Best image per iteration\")\n",
    "plt.show()\n"
   ],
   "metadata": {
    "collapsed": false,
    "ExecuteTime": {
     "end_time": "2023-05-21T21:31:54.563601900Z",
     "start_time": "2023-05-21T21:31:54.284525500Z"
    }
   }
  },
  {
   "cell_type": "code",
   "execution_count": 28,
   "outputs": [
    {
     "data": {
      "text/plain": "0    51\n1    42\n4    33\n2    30\n3    28\n5    15\nName: image_id, dtype: int64"
     },
     "execution_count": 28,
     "metadata": {},
     "output_type": "execute_result"
    }
   ],
   "source": [
    "# Most often terminations step based on best image\n",
    "results[results['best_image'] == True]['image_id'].value_counts().sort_values(ascending=False)"
   ],
   "metadata": {
    "collapsed": false,
    "ExecuteTime": {
     "end_time": "2023-05-21T21:31:54.952764100Z",
     "start_time": "2023-05-21T21:31:54.882695Z"
    }
   }
  },
  {
   "cell_type": "code",
   "execution_count": 29,
   "outputs": [
    {
     "data": {
      "text/plain": "1.9748743718592965"
     },
     "execution_count": 29,
     "metadata": {},
     "output_type": "execute_result"
    }
   ],
   "source": [
    "# Average termination step for based image\n",
    "results[results['best_image'] == True]['image_id'].mean()"
   ],
   "metadata": {
    "collapsed": false,
    "ExecuteTime": {
     "end_time": "2023-05-21T21:31:55.407555700Z",
     "start_time": "2023-05-21T21:31:55.360680500Z"
    }
   }
  },
  {
   "cell_type": "code",
   "execution_count": 30,
   "outputs": [
    {
     "data": {
      "text/plain": "clip_score       0.798738\nspice_score      0.310403\nimg_sim_score    0.575858\ndtype: float64"
     },
     "execution_count": 30,
     "metadata": {},
     "output_type": "execute_result"
    }
   ],
   "source": [
    "# Average scores for best image\n",
    "results[results['best_image'] == True][scores].mean()"
   ],
   "metadata": {
    "collapsed": false,
    "ExecuteTime": {
     "end_time": "2023-05-21T21:31:55.859625900Z",
     "start_time": "2023-05-21T21:31:55.790907300Z"
    }
   }
  },
  {
   "cell_type": "code",
   "execution_count": null,
   "outputs": [],
   "source": [
    "prompt_id = int(input(\"Provide prompt_id\"))\n",
    "for idx, row in results[results['prompt_id'] == prompt_id].reset_index().iterrows():\n",
    "    print('Iteration:', idx + 1)\n",
    "    if row['terminated'] == 1:\n",
    "        print('TERMINATED at this step')\n",
    "    if row['best_image'] == 1:\n",
    "        print('BEST IMAGE according to LLM')\n",
    "    if idx == 0:\n",
    "        print('Original prompt:', row['optimized_prompt'])\n",
    "    else:\n",
    "        print('Optimized prompt:', row['optimized_prompt'])\n",
    "    print('Generated image:')\n",
    "    image = Image.open(row['image_path'])\n",
    "    display(image)\n",
    "    print('Caption:', row['caption'])\n",
    "    print('#################################################################################')"
   ],
   "metadata": {
    "collapsed": false
   }
  },
  {
   "cell_type": "code",
   "execution_count": null,
   "outputs": [],
   "source": [],
   "metadata": {
    "collapsed": false
   }
  }
 ],
 "metadata": {
  "kernelspec": {
   "display_name": "DL2",
   "language": "python",
   "name": "python3"
  },
  "language_info": {
   "codemirror_mode": {
    "name": "ipython",
    "version": 3
   },
   "file_extension": ".py",
   "mimetype": "text/x-python",
   "name": "python",
   "nbconvert_exporter": "python",
   "pygments_lexer": "ipython3",
   "version": "3.10.0"
  },
  "orig_nbformat": 4
 },
 "nbformat": 4,
 "nbformat_minor": 2
}
