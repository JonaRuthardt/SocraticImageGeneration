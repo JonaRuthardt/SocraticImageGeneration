{
 "cells": [
  {
   "cell_type": "code",
   "execution_count": 3,
   "metadata": {},
   "outputs": [],
   "source": [
    "import os, sys\n",
    "import pandas as pd\n",
    "import numpy as np\n",
    "import warnings\n",
    "from tqdm import tqdm\n",
    "import csv\n",
    "\n",
    "warnings.filterwarnings('ignore')"
   ]
  },
  {
   "cell_type": "code",
   "execution_count": 4,
   "outputs": [],
   "source": [
    "os.chdir('..')"
   ],
   "metadata": {
    "collapsed": false
   }
  },
  {
   "cell_type": "code",
   "execution_count": 5,
   "outputs": [],
   "source": [
    "experiment_folder = 'data/results/coco_small_similarity_termination'"
   ],
   "metadata": {
    "collapsed": false
   }
  },
  {
   "cell_type": "code",
   "execution_count": 6,
   "outputs": [
    {
     "name": "stderr",
     "output_type": "stream",
     "text": [
      "100%|██████████| 51/51 [00:00<00:00, 413751.46it/s]\n"
     ]
    }
   ],
   "source": [
    "dirs = []\n",
    "for prompt_folder in tqdm(os.listdir(experiment_folder)):\n",
    "    if prompt_folder == 'hyperparameters.json':\n",
    "        continue\n",
    "    prompt_folder = os.path.join(experiment_folder, prompt_folder)\n",
    "    dirs.append(prompt_folder)"
   ],
   "metadata": {
    "collapsed": false
   }
  },
  {
   "cell_type": "code",
   "execution_count": 21,
   "outputs": [],
   "source": [
    "results_df = pd.DataFrame(columns=('prompt_id', 'terminated', 'termination_step', 'original_prompt','optimized_prompt','optimized_caption'))\n",
    "for idx, dir in enumerate(dirs):\n",
    "\n",
    "    results_df.loc[idx, 'prompt_id'] = dir.rsplit('/', 1)[-1]\n",
    "\n",
    "    with open(dir + '/terminated.csv') as csv_file:\n",
    "        csv_reader = csv.reader(csv_file, delimiter=':')\n",
    "        for row in csv_reader:\n",
    "            terminated = row[1].strip() == 'True'\n",
    "\n",
    "    results_df.loc[idx, 'terminated'] = terminated\n",
    "\n",
    "    prompts = pd.read_csv(dir + '/prompts.csv', header=None, sep='\\t', names=['name','prompt'])\n",
    "    results_df.loc[idx, 'original_prompt'] = prompts.iloc[0]['prompt']\n",
    "    results_df.loc[idx, 'optimized_prompt'] = prompts.iloc[-1]['prompt']\n",
    "\n",
    "    captions = pd.read_csv(dir + '/captions.csv', header=None, sep='\\t', names=['id','caption'])\n",
    "    results_df.loc[idx, 'optimized_caption'] = captions.iloc[-1]['caption']\n",
    "\n",
    "    if terminated:\n",
    "        results_df.loc[idx, 'termination_step'] = len(captions)\n",
    "    else:\n",
    "        results_df.loc[idx, 'termination_step'] = -1"
   ],
   "metadata": {
    "collapsed": false
   }
  },
  {
   "cell_type": "code",
   "execution_count": 22,
   "outputs": [
    {
     "data": {
      "text/plain": "   prompt_id terminated termination_step  \\\n0     000000       True                2   \n1     000001      False               -1   \n2     000002       True                2   \n3     000003       True                3   \n4     000004       True                2   \n5     000005       True                1   \n6     000006       True                1   \n7     000007       True                2   \n8     000008      False               -1   \n9     000009      False               -1   \n10    000010       True                1   \n11    000011       True                1   \n12    000012       True                1   \n13    000013       True                1   \n14    000014       True                1   \n15    000015      False               -1   \n16    000016       True                1   \n17    000017       True                1   \n18    000018       True                2   \n19    000019      False               -1   \n20    000020       True                2   \n21    000021       True                1   \n22    000022       True                1   \n23    000023       True                1   \n24    000024       True                2   \n25    000025      False               -1   \n26    000026       True                1   \n27    000027       True                5   \n28    000028       True                1   \n29    000029      False               -1   \n30    000030       True                4   \n31    000031       True                1   \n32    000032       True                3   \n33    000033       True                1   \n34    000034       True                1   \n35    000035      False               -1   \n36    000036       True                1   \n37    000037       True                2   \n38    000038       True                1   \n39    000039      False               -1   \n40    000040      False               -1   \n41    000041       True                1   \n42    000042       True                2   \n43    000043       True                2   \n44    000044       True                1   \n45    000045       True                4   \n46    000046       True                1   \n47    000047       True                4   \n48    000048      False               -1   \n49    000049       True                2   \n\n                                      original_prompt  \\\n0   A woman walking across a street holding a pink...   \n1   Cat sitting next to remote control on small co...   \n2   A couple of children sitting down on a white w...   \n3       A white refrigerator and a counter in a room.   \n4          a close up of a cat on a rug on the ground   \n5       A herd of elephants walking down a dirt road.   \n6   A man holding a slice of pizza while wearing g...   \n7                 A large sleigh bed in a hotel room.   \n8   a person holding an open umbrella with words w...   \n9            An orange lying next to a green utensil.   \n10     A man riding a skateboard along a sandy beach.   \n11  a table near a body of water with many plates ...   \n12  Three pots of flowers are placed on a window s...   \n13  The red fire hydrant is next to a caution part...   \n14  A boy in the air as he does a trick on a skate...   \n15          A family has their luggage on the ground.   \n16  A plate with spaghetti and broccoli and can of...   \n17  A guy on an ATV has a black dog riding in the ...   \n18                   A dog that is wearing a red hat.   \n19  Lower body shot of man in dark cloths, walking...   \n20  A bathroom with a toilet and a sink next to a ...   \n21               A man paddling a kayak down a river.   \n22     A bowl of cooked noodles and broccoli in sauce   \n23  A group of young people standing around each o...   \n24  its sunny outside and you can see the shadows ...   \n25  View down a city walkway and street, with gras...   \n26  an extreme close up of pizza and a fork on a p...   \n27  A jet airliner flying over a building with sky...   \n28         People are waiting for the train to arrive   \n29       Brown and white horses grazing in the grass.   \n30  a train is stopped on the train tracks at the ...   \n31              Two photos of an airplane in the air.   \n32  Two young boys enjoying the action at a local ...   \n33  An indoor garden show which focus on a large v...   \n34       A red stop sign on the side of a brick road.   \n35  There is a bright yellow parking meter on a re...   \n36         A city street filled with lots of traffic.   \n37  A tall building with a large clock mounted to ...   \n38  a work desk with display with graphs, notebook...   \n39     a hand a cellphone a laptop and a beer coaster   \n40  A woman standing at a table holding a pepper c...   \n41      A baseball player throwing a ball on a mound.   \n42  A young lady holding a Nintendo Wii game contr...   \n43  THERE ARE CITY BUSES THAT ARE LINED ON THE STR...   \n44  Two adults and two children sitting on an elep...   \n45   A train traveling down tracks near a small town.   \n46  A mother zebra with a baby zebra as it nurses ...   \n47  A number of benches at the beach and a boat in...   \n48  A city street with stores across the street an...   \n49        A man kiteboarding over waves in the ocean.   \n\n                                     optimized_prompt  \\\n0   A woman strolling on a rainy street under her ...   \n1   A black and white cat sitting next to a silver...   \n2       Two kids sitting on a white wall and smiling.   \n3   A spacious kitchen with a white refrigerator a...   \n4   A detailed shot of a cat lounging on a cozy ru...   \n5       A herd of elephants walking down a dirt road.   \n6   A man holding a slice of pizza while wearing g...   \n7   A luxurious, wooden sleigh bed in a spacious h...   \n8   A close-up of a person's hand holding an umbre...   \n9             An orange resting beside a green spoon.   \n10     A man riding a skateboard along a sandy beach.   \n11  a table near a body of water with many plates ...   \n12  Three pots of flowers are placed on a window s...   \n13  The red fire hydrant is next to a caution part...   \n14  A boy in the air as he does a trick on a skate...   \n15  A family is packing their luggage in front of ...   \n16  A plate with spaghetti and broccoli and can of...   \n17  A guy on an ATV has a black dog riding in the ...   \n18       A cute dog wearing a red hat and only a hat.   \n19  Skateboarding man in dark clothes, seen from b...   \n20  A cozy bathroom with a white bathtub and a sim...   \n21               A man paddling a kayak down a river.   \n22     A bowl of cooked noodles and broccoli in sauce   \n23  A group of young people standing around each o...   \n24  A sunny park with a clear view of shadows cast...   \n25  A bustling street scene in the heart of the ci...   \n26  an extreme close up of pizza and a fork on a p...   \n27  A modern jet soaring over a tall skyscraper ag...   \n28         People are waiting for the train to arrive   \n29  Two horses grazing side by side in a lush gree...   \n30  A train is stationed at a platform and waiting...   \n31              Two photos of an airplane in the air.   \n32  A pair of young brothers having fun skating to...   \n33  An indoor garden show which focus on a large v...   \n34       A red stop sign on the side of a brick road.   \n35  Show a bright yellow parking meter standing on...   \n36         A city street filled with lots of traffic.   \n37  A towering skyscraper with a prominent clock f...   \n38  a work desk with display with graphs, notebook...   \n39  A hand holding a cellphone and a beer coaster ...   \n40  A woman standing at a table holding a pepper c...   \n41      A baseball player throwing a ball on a mound.   \n42  A young woman playing video games with a Ninte...   \n43  Show a row of city buses lining up in front of...   \n44  Two adults and two children sitting on an elep...   \n45     A train chugging through a quaint countryside.   \n46  A mother zebra with a baby zebra as it nurses ...   \n47  A variety of colorful benches lining the sandy...   \n48  A bustling city sidewalk with storefronts in t...   \n49  A man kiteboarding on the waves with a harness...   \n\n                                    optimized_caption  \n0   woman walking down a wet sidewalk with a pink ...  \n1      there is a cat that is sitting next to a mouse  \n2   two young children sitting on the ground next ...  \n3   there is a kitchen with a stove, refrigerator,...  \n4         there is a cat that is laying down on a rug  \n5   there are many elephants crossing the road in ...  \n6   arafed man with glasses holding a slice of piz...  \n7   there is a bed with a white and brown comforte...  \n8   there is a blue umbrella with a white handle o...  \n9    there is a plate with a leaf and an orange on it  \n10      there is a man riding a skateboard on a beach  \n11  there is a table with food on it on a wooden deck  \n12  three pots of flowers sit on a window sill in ...  \n13  there is a red fire hydrant sitting on the sid...  \n14  there is a young boy that is jumping a skatebo...  \n15  there are a group of people and two dogs stand...  \n16  there is a plate of spaghetti and broccoli on ...  \n17       there is a man and his dog on a four wheeler  \n18     there is a dog wearing a red beret and smiling  \n19  there is a man riding a skateboard across a cr...  \n20  there is a bathroom with a toilet, sink, and b...  \n21             there is a man in a kayak on the water  \n22  a close up of a bowl of noodles with broccoli ...  \n23  there are many people standing together in fro...  \n24  sunlight shining through the trees onto a park...  \n25  people walking and biking on a city street wit...  \n26     there is a plate with a pizza and a fork on it  \n27  arafed jet flying over a city with tall buildi...  \n28  people standing on a platform waiting to board...  \n29  there are two horses standing in a field of grass  \n30  there is a train that is stopped at the statio...  \n31  there are two planes flying in the sky togethe...  \n32  two young boys are riding skateboards on a pav...  \n33     there is a large vase with a green plant in it  \n34  there is a stop sign on the sidewalk of a bric...  \n35  there is a yellow and red post sitting on the ...  \n36  cars and trucks are driving down a busy city s...  \n37     there is a clock tower in the middle of a city  \n38  there is a computer on a desk with a keyboard ...  \n39  someone is holding a glass of beer in front of...  \n40  there is a woman standing in front of a table ...  \n41  pitcher in motion on the mound ready to throw ...  \n42  smiling woman holding a video game controller ...  \n43  there are many buses parked in a row on the st...  \n44  there are two adults and two children sitting ...  \n45  there is a red train that is going down the tr...  \n46  zebra nursing from its mother in a black and w...  \n47  there are many benches on the beach near the w...  \n48  there is a dog walking down the street in fron...  \n49  there is a man that is flying a kite in the ocean  ",
      "text/html": "<div>\n<style scoped>\n    .dataframe tbody tr th:only-of-type {\n        vertical-align: middle;\n    }\n\n    .dataframe tbody tr th {\n        vertical-align: top;\n    }\n\n    .dataframe thead th {\n        text-align: right;\n    }\n</style>\n<table border=\"1\" class=\"dataframe\">\n  <thead>\n    <tr style=\"text-align: right;\">\n      <th></th>\n      <th>prompt_id</th>\n      <th>terminated</th>\n      <th>termination_step</th>\n      <th>original_prompt</th>\n      <th>optimized_prompt</th>\n      <th>optimized_caption</th>\n    </tr>\n  </thead>\n  <tbody>\n    <tr>\n      <th>0</th>\n      <td>000000</td>\n      <td>True</td>\n      <td>2</td>\n      <td>A woman walking across a street holding a pink...</td>\n      <td>A woman strolling on a rainy street under her ...</td>\n      <td>woman walking down a wet sidewalk with a pink ...</td>\n    </tr>\n    <tr>\n      <th>1</th>\n      <td>000001</td>\n      <td>False</td>\n      <td>-1</td>\n      <td>Cat sitting next to remote control on small co...</td>\n      <td>A black and white cat sitting next to a silver...</td>\n      <td>there is a cat that is sitting next to a mouse</td>\n    </tr>\n    <tr>\n      <th>2</th>\n      <td>000002</td>\n      <td>True</td>\n      <td>2</td>\n      <td>A couple of children sitting down on a white w...</td>\n      <td>Two kids sitting on a white wall and smiling.</td>\n      <td>two young children sitting on the ground next ...</td>\n    </tr>\n    <tr>\n      <th>3</th>\n      <td>000003</td>\n      <td>True</td>\n      <td>3</td>\n      <td>A white refrigerator and a counter in a room.</td>\n      <td>A spacious kitchen with a white refrigerator a...</td>\n      <td>there is a kitchen with a stove, refrigerator,...</td>\n    </tr>\n    <tr>\n      <th>4</th>\n      <td>000004</td>\n      <td>True</td>\n      <td>2</td>\n      <td>a close up of a cat on a rug on the ground</td>\n      <td>A detailed shot of a cat lounging on a cozy ru...</td>\n      <td>there is a cat that is laying down on a rug</td>\n    </tr>\n    <tr>\n      <th>5</th>\n      <td>000005</td>\n      <td>True</td>\n      <td>1</td>\n      <td>A herd of elephants walking down a dirt road.</td>\n      <td>A herd of elephants walking down a dirt road.</td>\n      <td>there are many elephants crossing the road in ...</td>\n    </tr>\n    <tr>\n      <th>6</th>\n      <td>000006</td>\n      <td>True</td>\n      <td>1</td>\n      <td>A man holding a slice of pizza while wearing g...</td>\n      <td>A man holding a slice of pizza while wearing g...</td>\n      <td>arafed man with glasses holding a slice of piz...</td>\n    </tr>\n    <tr>\n      <th>7</th>\n      <td>000007</td>\n      <td>True</td>\n      <td>2</td>\n      <td>A large sleigh bed in a hotel room.</td>\n      <td>A luxurious, wooden sleigh bed in a spacious h...</td>\n      <td>there is a bed with a white and brown comforte...</td>\n    </tr>\n    <tr>\n      <th>8</th>\n      <td>000008</td>\n      <td>False</td>\n      <td>-1</td>\n      <td>a person holding an open umbrella with words w...</td>\n      <td>A close-up of a person's hand holding an umbre...</td>\n      <td>there is a blue umbrella with a white handle o...</td>\n    </tr>\n    <tr>\n      <th>9</th>\n      <td>000009</td>\n      <td>False</td>\n      <td>-1</td>\n      <td>An orange lying next to a green utensil.</td>\n      <td>An orange resting beside a green spoon.</td>\n      <td>there is a plate with a leaf and an orange on it</td>\n    </tr>\n    <tr>\n      <th>10</th>\n      <td>000010</td>\n      <td>True</td>\n      <td>1</td>\n      <td>A man riding a skateboard along a sandy beach.</td>\n      <td>A man riding a skateboard along a sandy beach.</td>\n      <td>there is a man riding a skateboard on a beach</td>\n    </tr>\n    <tr>\n      <th>11</th>\n      <td>000011</td>\n      <td>True</td>\n      <td>1</td>\n      <td>a table near a body of water with many plates ...</td>\n      <td>a table near a body of water with many plates ...</td>\n      <td>there is a table with food on it on a wooden deck</td>\n    </tr>\n    <tr>\n      <th>12</th>\n      <td>000012</td>\n      <td>True</td>\n      <td>1</td>\n      <td>Three pots of flowers are placed on a window s...</td>\n      <td>Three pots of flowers are placed on a window s...</td>\n      <td>three pots of flowers sit on a window sill in ...</td>\n    </tr>\n    <tr>\n      <th>13</th>\n      <td>000013</td>\n      <td>True</td>\n      <td>1</td>\n      <td>The red fire hydrant is next to a caution part...</td>\n      <td>The red fire hydrant is next to a caution part...</td>\n      <td>there is a red fire hydrant sitting on the sid...</td>\n    </tr>\n    <tr>\n      <th>14</th>\n      <td>000014</td>\n      <td>True</td>\n      <td>1</td>\n      <td>A boy in the air as he does a trick on a skate...</td>\n      <td>A boy in the air as he does a trick on a skate...</td>\n      <td>there is a young boy that is jumping a skatebo...</td>\n    </tr>\n    <tr>\n      <th>15</th>\n      <td>000015</td>\n      <td>False</td>\n      <td>-1</td>\n      <td>A family has their luggage on the ground.</td>\n      <td>A family is packing their luggage in front of ...</td>\n      <td>there are a group of people and two dogs stand...</td>\n    </tr>\n    <tr>\n      <th>16</th>\n      <td>000016</td>\n      <td>True</td>\n      <td>1</td>\n      <td>A plate with spaghetti and broccoli and can of...</td>\n      <td>A plate with spaghetti and broccoli and can of...</td>\n      <td>there is a plate of spaghetti and broccoli on ...</td>\n    </tr>\n    <tr>\n      <th>17</th>\n      <td>000017</td>\n      <td>True</td>\n      <td>1</td>\n      <td>A guy on an ATV has a black dog riding in the ...</td>\n      <td>A guy on an ATV has a black dog riding in the ...</td>\n      <td>there is a man and his dog on a four wheeler</td>\n    </tr>\n    <tr>\n      <th>18</th>\n      <td>000018</td>\n      <td>True</td>\n      <td>2</td>\n      <td>A dog that is wearing a red hat.</td>\n      <td>A cute dog wearing a red hat and only a hat.</td>\n      <td>there is a dog wearing a red beret and smiling</td>\n    </tr>\n    <tr>\n      <th>19</th>\n      <td>000019</td>\n      <td>False</td>\n      <td>-1</td>\n      <td>Lower body shot of man in dark cloths, walking...</td>\n      <td>Skateboarding man in dark clothes, seen from b...</td>\n      <td>there is a man riding a skateboard across a cr...</td>\n    </tr>\n    <tr>\n      <th>20</th>\n      <td>000020</td>\n      <td>True</td>\n      <td>2</td>\n      <td>A bathroom with a toilet and a sink next to a ...</td>\n      <td>A cozy bathroom with a white bathtub and a sim...</td>\n      <td>there is a bathroom with a toilet, sink, and b...</td>\n    </tr>\n    <tr>\n      <th>21</th>\n      <td>000021</td>\n      <td>True</td>\n      <td>1</td>\n      <td>A man paddling a kayak down a river.</td>\n      <td>A man paddling a kayak down a river.</td>\n      <td>there is a man in a kayak on the water</td>\n    </tr>\n    <tr>\n      <th>22</th>\n      <td>000022</td>\n      <td>True</td>\n      <td>1</td>\n      <td>A bowl of cooked noodles and broccoli in sauce</td>\n      <td>A bowl of cooked noodles and broccoli in sauce</td>\n      <td>a close up of a bowl of noodles with broccoli ...</td>\n    </tr>\n    <tr>\n      <th>23</th>\n      <td>000023</td>\n      <td>True</td>\n      <td>1</td>\n      <td>A group of young people standing around each o...</td>\n      <td>A group of young people standing around each o...</td>\n      <td>there are many people standing together in fro...</td>\n    </tr>\n    <tr>\n      <th>24</th>\n      <td>000024</td>\n      <td>True</td>\n      <td>2</td>\n      <td>its sunny outside and you can see the shadows ...</td>\n      <td>A sunny park with a clear view of shadows cast...</td>\n      <td>sunlight shining through the trees onto a park...</td>\n    </tr>\n    <tr>\n      <th>25</th>\n      <td>000025</td>\n      <td>False</td>\n      <td>-1</td>\n      <td>View down a city walkway and street, with gras...</td>\n      <td>A bustling street scene in the heart of the ci...</td>\n      <td>people walking and biking on a city street wit...</td>\n    </tr>\n    <tr>\n      <th>26</th>\n      <td>000026</td>\n      <td>True</td>\n      <td>1</td>\n      <td>an extreme close up of pizza and a fork on a p...</td>\n      <td>an extreme close up of pizza and a fork on a p...</td>\n      <td>there is a plate with a pizza and a fork on it</td>\n    </tr>\n    <tr>\n      <th>27</th>\n      <td>000027</td>\n      <td>True</td>\n      <td>5</td>\n      <td>A jet airliner flying over a building with sky...</td>\n      <td>A modern jet soaring over a tall skyscraper ag...</td>\n      <td>arafed jet flying over a city with tall buildi...</td>\n    </tr>\n    <tr>\n      <th>28</th>\n      <td>000028</td>\n      <td>True</td>\n      <td>1</td>\n      <td>People are waiting for the train to arrive</td>\n      <td>People are waiting for the train to arrive</td>\n      <td>people standing on a platform waiting to board...</td>\n    </tr>\n    <tr>\n      <th>29</th>\n      <td>000029</td>\n      <td>False</td>\n      <td>-1</td>\n      <td>Brown and white horses grazing in the grass.</td>\n      <td>Two horses grazing side by side in a lush gree...</td>\n      <td>there are two horses standing in a field of grass</td>\n    </tr>\n    <tr>\n      <th>30</th>\n      <td>000030</td>\n      <td>True</td>\n      <td>4</td>\n      <td>a train is stopped on the train tracks at the ...</td>\n      <td>A train is stationed at a platform and waiting...</td>\n      <td>there is a train that is stopped at the statio...</td>\n    </tr>\n    <tr>\n      <th>31</th>\n      <td>000031</td>\n      <td>True</td>\n      <td>1</td>\n      <td>Two photos of an airplane in the air.</td>\n      <td>Two photos of an airplane in the air.</td>\n      <td>there are two planes flying in the sky togethe...</td>\n    </tr>\n    <tr>\n      <th>32</th>\n      <td>000032</td>\n      <td>True</td>\n      <td>3</td>\n      <td>Two young boys enjoying the action at a local ...</td>\n      <td>A pair of young brothers having fun skating to...</td>\n      <td>two young boys are riding skateboards on a pav...</td>\n    </tr>\n    <tr>\n      <th>33</th>\n      <td>000033</td>\n      <td>True</td>\n      <td>1</td>\n      <td>An indoor garden show which focus on a large v...</td>\n      <td>An indoor garden show which focus on a large v...</td>\n      <td>there is a large vase with a green plant in it</td>\n    </tr>\n    <tr>\n      <th>34</th>\n      <td>000034</td>\n      <td>True</td>\n      <td>1</td>\n      <td>A red stop sign on the side of a brick road.</td>\n      <td>A red stop sign on the side of a brick road.</td>\n      <td>there is a stop sign on the sidewalk of a bric...</td>\n    </tr>\n    <tr>\n      <th>35</th>\n      <td>000035</td>\n      <td>False</td>\n      <td>-1</td>\n      <td>There is a bright yellow parking meter on a re...</td>\n      <td>Show a bright yellow parking meter standing on...</td>\n      <td>there is a yellow and red post sitting on the ...</td>\n    </tr>\n    <tr>\n      <th>36</th>\n      <td>000036</td>\n      <td>True</td>\n      <td>1</td>\n      <td>A city street filled with lots of traffic.</td>\n      <td>A city street filled with lots of traffic.</td>\n      <td>cars and trucks are driving down a busy city s...</td>\n    </tr>\n    <tr>\n      <th>37</th>\n      <td>000037</td>\n      <td>True</td>\n      <td>2</td>\n      <td>A tall building with a large clock mounted to ...</td>\n      <td>A towering skyscraper with a prominent clock f...</td>\n      <td>there is a clock tower in the middle of a city</td>\n    </tr>\n    <tr>\n      <th>38</th>\n      <td>000038</td>\n      <td>True</td>\n      <td>1</td>\n      <td>a work desk with display with graphs, notebook...</td>\n      <td>a work desk with display with graphs, notebook...</td>\n      <td>there is a computer on a desk with a keyboard ...</td>\n    </tr>\n    <tr>\n      <th>39</th>\n      <td>000039</td>\n      <td>False</td>\n      <td>-1</td>\n      <td>a hand a cellphone a laptop and a beer coaster</td>\n      <td>A hand holding a cellphone and a beer coaster ...</td>\n      <td>someone is holding a glass of beer in front of...</td>\n    </tr>\n    <tr>\n      <th>40</th>\n      <td>000040</td>\n      <td>False</td>\n      <td>-1</td>\n      <td>A woman standing at a table holding a pepper c...</td>\n      <td>A woman standing at a table holding a pepper c...</td>\n      <td>there is a woman standing in front of a table ...</td>\n    </tr>\n    <tr>\n      <th>41</th>\n      <td>000041</td>\n      <td>True</td>\n      <td>1</td>\n      <td>A baseball player throwing a ball on a mound.</td>\n      <td>A baseball player throwing a ball on a mound.</td>\n      <td>pitcher in motion on the mound ready to throw ...</td>\n    </tr>\n    <tr>\n      <th>42</th>\n      <td>000042</td>\n      <td>True</td>\n      <td>2</td>\n      <td>A young lady holding a Nintendo Wii game contr...</td>\n      <td>A young woman playing video games with a Ninte...</td>\n      <td>smiling woman holding a video game controller ...</td>\n    </tr>\n    <tr>\n      <th>43</th>\n      <td>000043</td>\n      <td>True</td>\n      <td>2</td>\n      <td>THERE ARE CITY BUSES THAT ARE LINED ON THE STR...</td>\n      <td>Show a row of city buses lining up in front of...</td>\n      <td>there are many buses parked in a row on the st...</td>\n    </tr>\n    <tr>\n      <th>44</th>\n      <td>000044</td>\n      <td>True</td>\n      <td>1</td>\n      <td>Two adults and two children sitting on an elep...</td>\n      <td>Two adults and two children sitting on an elep...</td>\n      <td>there are two adults and two children sitting ...</td>\n    </tr>\n    <tr>\n      <th>45</th>\n      <td>000045</td>\n      <td>True</td>\n      <td>4</td>\n      <td>A train traveling down tracks near a small town.</td>\n      <td>A train chugging through a quaint countryside.</td>\n      <td>there is a red train that is going down the tr...</td>\n    </tr>\n    <tr>\n      <th>46</th>\n      <td>000046</td>\n      <td>True</td>\n      <td>1</td>\n      <td>A mother zebra with a baby zebra as it nurses ...</td>\n      <td>A mother zebra with a baby zebra as it nurses ...</td>\n      <td>zebra nursing from its mother in a black and w...</td>\n    </tr>\n    <tr>\n      <th>47</th>\n      <td>000047</td>\n      <td>True</td>\n      <td>4</td>\n      <td>A number of benches at the beach and a boat in...</td>\n      <td>A variety of colorful benches lining the sandy...</td>\n      <td>there are many benches on the beach near the w...</td>\n    </tr>\n    <tr>\n      <th>48</th>\n      <td>000048</td>\n      <td>False</td>\n      <td>-1</td>\n      <td>A city street with stores across the street an...</td>\n      <td>A bustling city sidewalk with storefronts in t...</td>\n      <td>there is a dog walking down the street in fron...</td>\n    </tr>\n    <tr>\n      <th>49</th>\n      <td>000049</td>\n      <td>True</td>\n      <td>2</td>\n      <td>A man kiteboarding over waves in the ocean.</td>\n      <td>A man kiteboarding on the waves with a harness...</td>\n      <td>there is a man that is flying a kite in the ocean</td>\n    </tr>\n  </tbody>\n</table>\n</div>"
     },
     "execution_count": 22,
     "metadata": {},
     "output_type": "execute_result"
    }
   ],
   "source": [
    "results_df"
   ],
   "metadata": {
    "collapsed": false
   }
  },
  {
   "cell_type": "code",
   "execution_count": 23,
   "outputs": [],
   "source": [
    "results_df.to_csv('coco_small_similarity_termination.csv')"
   ],
   "metadata": {
    "collapsed": false
   }
  },
  {
   "attachments": {},
   "cell_type": "markdown",
   "metadata": {},
   "source": [
    "## Average CLIP Score"
   ]
  },
  {
   "cell_type": "code",
   "execution_count": 45,
   "metadata": {},
   "outputs": [
    {
     "data": {
      "text/html": [
       "<div>\n",
       "<style scoped>\n",
       "    .dataframe tbody tr th:only-of-type {\n",
       "        vertical-align: middle;\n",
       "    }\n",
       "\n",
       "    .dataframe tbody tr th {\n",
       "        vertical-align: top;\n",
       "    }\n",
       "\n",
       "    .dataframe thead th {\n",
       "        text-align: right;\n",
       "    }\n",
       "</style>\n",
       "<table border=\"1\" class=\"dataframe\">\n",
       "  <thead>\n",
       "    <tr style=\"text-align: right;\">\n",
       "      <th></th>\n",
       "      <th>score</th>\n",
       "    </tr>\n",
       "    <tr>\n",
       "      <th>image_id</th>\n",
       "      <th></th>\n",
       "    </tr>\n",
       "  </thead>\n",
       "  <tbody>\n",
       "    <tr>\n",
       "      <th>0</th>\n",
       "      <td>33.474657</td>\n",
       "    </tr>\n",
       "    <tr>\n",
       "      <th>1</th>\n",
       "      <td>30.980562</td>\n",
       "    </tr>\n",
       "    <tr>\n",
       "      <th>2</th>\n",
       "      <td>30.850779</td>\n",
       "    </tr>\n",
       "    <tr>\n",
       "      <th>3</th>\n",
       "      <td>30.695939</td>\n",
       "    </tr>\n",
       "    <tr>\n",
       "      <th>4</th>\n",
       "      <td>30.562657</td>\n",
       "    </tr>\n",
       "    <tr>\n",
       "      <th>5</th>\n",
       "      <td>30.710908</td>\n",
       "    </tr>\n",
       "  </tbody>\n",
       "</table>\n",
       "</div>"
      ],
      "text/plain": [
       "              score\n",
       "image_id           \n",
       "0         33.474657\n",
       "1         30.980562\n",
       "2         30.850779\n",
       "3         30.695939\n",
       "4         30.562657\n",
       "5         30.710908"
      ]
     },
     "execution_count": 45,
     "metadata": {},
     "output_type": "execute_result"
    }
   ],
   "source": [
    "avg_clipscore_results = result_df.groupby(level=1).mean()\n",
    "avg_clipscore_results"
   ]
  },
  {
   "attachments": {},
   "cell_type": "markdown",
   "metadata": {},
   "source": [
    "## Optimized Image vs. Original Image Score\n",
    "Count the number of occurances per optimization steps where the similarity score of the optimized generated image and the user prompt is higher then the image generated based on the original user prompt.\n",
    "This metric measures if optimizing the prompt using our model yields better results"
   ]
  },
  {
   "cell_type": "code",
   "execution_count": 46,
   "metadata": {},
   "outputs": [
    {
     "name": "stdout",
     "output_type": "stream",
     "text": [
      "Optimization step 1: 30.9% of prompts improved\n",
      "Optimization step 2: 29.5% of prompts improved\n",
      "Optimization step 3: 30.1% of prompts improved\n",
      "Optimization step 4: 30.6% of prompts improved\n",
      "Optimization step 5: 30.7% of prompts improved\n"
     ]
    }
   ],
   "source": [
    "original_scores = result_df.loc(axis=0)[:,0][\"score\"].values\n",
    "for optimization_step in range(1, optimization_step_num+1):\n",
    "    optimization_scores = result_df.loc(axis=0)[:,optimization_step][\"score\"].values\n",
    "    improvement_count = np.sum(optimization_scores > original_scores)\n",
    "    improvement_percentage = improvement_count / prompt_num\n",
    "    print(f\"Optimization step {optimization_step}: {improvement_percentage*100:.1f}% of prompts improved\")\n"
   ]
  },
  {
   "attachments": {},
   "cell_type": "markdown",
   "metadata": {},
   "source": [
    "## Current Optimized Image vs. Previous Generations Score\n",
    "Count the number of occurances where the generated image of the current optimization steps achieves the highest similarity with the original user prompt compared to all previous generations. \n",
    "This metric measures if running the optimization loop several times improves results and if/when a convergence is reached."
   ]
  },
  {
   "cell_type": "code",
   "execution_count": 47,
   "metadata": {},
   "outputs": [
    {
     "name": "stdout",
     "output_type": "stream",
     "text": [
      "Optimization step 1: 30.9% of prompts improved compared to previous generation steps\n",
      "Optimization step 2: 20.6% of prompts improved compared to previous generation steps\n",
      "Optimization step 3: 17.6% of prompts improved compared to previous generation steps\n",
      "Optimization step 4: 14.6% of prompts improved compared to previous generation steps\n",
      "Optimization step 5: 11.9% of prompts improved compared to previous generation steps\n"
     ]
    }
   ],
   "source": [
    "for optimization_step in range(1, optimization_step_num+1):\n",
    "    previous_scores = result_df.loc(axis=0)[:,:optimization_step-1][\"score\"].max(level=0).values\n",
    "    optimization_scores = result_df.loc(axis=0)[:,optimization_step][\"score\"].values\n",
    "    improvement_count = np.sum(optimization_scores > previous_scores)\n",
    "    improvement_percentage = improvement_count / prompt_num\n",
    "    print(f\"Optimization step {optimization_step}: {improvement_percentage*100:.1f}% of prompts improved compared to previous generation steps\")"
   ]
  },
  {
   "attachments": {},
   "cell_type": "markdown",
   "metadata": {},
   "source": [
    "## Current Optimized Image vs. Previous Generations Score\n",
    "Count the number of occurances where the generated image of a given optimization steps achieves the highest similarity with the original user prompt compared to all other generated images.\n",
    "This metric measures which optimization steps tends to yield the most fitting images."
   ]
  },
  {
   "cell_type": "code",
   "execution_count": 51,
   "metadata": {},
   "outputs": [
    {
     "name": "stdout",
     "output_type": "stream",
     "text": [
      "Optimization step 1: 13.9% of prompts achieved best overall performance\n",
      "Optimization step 2: 12.1% of prompts achieved best overall performance\n",
      "Optimization step 3: 11.9% of prompts achieved best overall performance\n",
      "Optimization step 4: 12.5% of prompts achieved best overall performance\n",
      "Optimization step 5: 11.9% of prompts achieved best overall performance\n"
     ]
    }
   ],
   "source": [
    "for optimization_step in range(1, optimization_step_num+1):\n",
    "    previous_scores = result_df.loc(axis=0)[:,:optimization_step-1][\"score\"].max(level=0).values\n",
    "    if optimization_step == optimization_step_num:\n",
    "        next_scores = np.zeros(prompt_num)\n",
    "    else:\n",
    "        next_scores = result_df.loc(axis=0)[:,optimization_step+1:][\"score\"].max(level=0).values\n",
    "    combined_max = np.max([previous_scores, next_scores], axis=0)\n",
    "    optimization_scores = result_df.loc(axis=0)[:,optimization_step][\"score\"].values\n",
    "    improvement_count = np.sum(optimization_scores > combined_max)\n",
    "    improvement_percentage = improvement_count / prompt_num\n",
    "    print(f\"Optimization step {optimization_step}: {improvement_percentage*100:.1f}% of prompts achieved best overall performance\")"
   ]
  },
  {
   "cell_type": "code",
   "execution_count": null,
   "metadata": {},
   "outputs": [],
   "source": []
  },
  {
   "cell_type": "code",
   "execution_count": null,
   "metadata": {},
   "outputs": [],
   "source": []
  }
 ],
 "metadata": {
  "kernelspec": {
   "display_name": "DL2",
   "language": "python",
   "name": "python3"
  },
  "language_info": {
   "codemirror_mode": {
    "name": "ipython",
    "version": 3
   },
   "file_extension": ".py",
   "mimetype": "text/x-python",
   "name": "python",
   "nbconvert_exporter": "python",
   "pygments_lexer": "ipython3",
   "version": "3.10.0"
  },
  "orig_nbformat": 4
 },
 "nbformat": 4,
 "nbformat_minor": 2
}
