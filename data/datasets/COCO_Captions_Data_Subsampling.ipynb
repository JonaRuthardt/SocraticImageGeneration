{
  "nbformat": 4,
  "nbformat_minor": 0,
  "metadata": {
    "colab": {
      "provenance": [],
      "authorship_tag": "ABX9TyPRBGLhqm8FSW0GURxkzBf2",
      "include_colab_link": true
    },
    "kernelspec": {
      "name": "python3",
      "display_name": "Python 3"
    },
    "language_info": {
      "name": "python"
    }
  },
  "cells": [
    {
      "cell_type": "markdown",
      "metadata": {
        "id": "view-in-github",
        "colab_type": "text"
      },
      "source": [
        "<a href=\"https://colab.research.google.com/github/JonaRuthardt/SocraticImageGeneration/blob/master/data/datasets/COCO_Captions_Data_Subsampling.ipynb\" target=\"_parent\"><img src=\"https://colab.research.google.com/assets/colab-badge.svg\" alt=\"Open In Colab\"/></a>"
      ]
    },
    {
      "cell_type": "code",
      "source": [
        "# Download coco validation 2014 split\n",
        "!wget http://images.cocodataset.org/zips/val2014.zip\n",
        "!unzip val2014.zip"
      ],
      "metadata": {
        "id": "IDiJQpnedGde"
      },
      "execution_count": null,
      "outputs": []
    },
    {
      "cell_type": "code",
      "execution_count": 16,
      "metadata": {
        "id": "wZFwepUPcs3J"
      },
      "outputs": [],
      "source": [
        "# Download annotations\n",
        "!wget http://images.cocodataset.org/annotations/annotations_trainval2014.zip\n",
        "!unzip annotations_trainval2014.zip"
      ]
    },
    {
      "cell_type": "code",
      "source": [
        "import random, os, sys, json, pandas as pd, shutil\n",
        "random.seed(42)"
      ],
      "metadata": {
        "id": "W9ztVGtI3PmN"
      },
      "execution_count": 27,
      "outputs": []
    },
    {
      "cell_type": "code",
      "source": [
        "# Open annotations\n",
        "with open(\"annotations/captions_val2014.json\", \"r\") as f:\n",
        "  annotations = json.load(f)\n"
      ],
      "metadata": {
        "id": "TjVF9ym23Pj4"
      },
      "execution_count": 54,
      "outputs": []
    },
    {
      "cell_type": "code",
      "source": [
        "def create_random_subsample(name, size=50):\n",
        "  subsample = random.sample(range(0,len(annotations[\"images\"])), size)\n",
        "  os.mkdir(name)\n",
        "  file_names = []\n",
        "  ids = []\n",
        "  captions1 = []\n",
        "  captions2 = []\n",
        "  captions3 = []\n",
        "  captions4 = []\n",
        "  for sample_idx in subsample:\n",
        "    file_name = annotations[\"images\"][sample_idx][\"file_name\"]\n",
        "    id = annotations[\"images\"][sample_idx][\"id\"]\n",
        "    captions = [c[\"caption\"] for c in annotations[\"annotations\"] if c[\"image_id\"] == id]\n",
        "\n",
        "    captions1.append(captions[0])\n",
        "    captions2.append(captions[1])\n",
        "    captions3.append(captions[2])\n",
        "    captions4.append(captions[3])\n",
        "    ids.append(id)\n",
        "    file_names.append(file_name)\n",
        "\n",
        "    shutil.copy(os.path.join(\"val2014\", file_name), name)\n",
        "\n",
        "  df = pd.DataFrame.from_dict({\"dataset_id\": ids, \"file_name\": file_names, \"caption 1\": captions1, \"caption 2\": captions2, \"caption 3\": captions3, \"caption 4\": captions4})\n",
        "  df.to_csv(os.path.join(name, \"annotations.tsv\"), sep=\"\\t\")"
      ],
      "metadata": {
        "id": "R5Dv0TMJ3Phi"
      },
      "execution_count": 63,
      "outputs": []
    },
    {
      "cell_type": "code",
      "source": [
        "create_random_subsample(\"coco-small\", 50)"
      ],
      "metadata": {
        "id": "YAmalscZ3PfL"
      },
      "execution_count": 65,
      "outputs": []
    },
    {
      "cell_type": "code",
      "source": [
        "create_random_subsample(\"coco-medium\", 200)"
      ],
      "metadata": {
        "id": "QHIS3L0L3Pca"
      },
      "execution_count": 66,
      "outputs": []
    },
    {
      "cell_type": "code",
      "source": [
        "create_random_subsample(\"coco-large\", 1000)"
      ],
      "metadata": {
        "id": "22TtHTjB5ZbX"
      },
      "execution_count": 67,
      "outputs": []
    },
    {
      "cell_type": "code",
      "source": [
        "!zip -r -T coco-small.zip coco-small"
      ],
      "metadata": {
        "colab": {
          "base_uri": "https://localhost:8080/"
        },
        "id": "o4mqIbT85ZZf",
        "outputId": "07977129-f884-4013-adbe-5a52af6a1f7c"
      },
      "execution_count": 74,
      "outputs": [
        {
          "output_type": "stream",
          "name": "stdout",
          "text": [
            "\tzip warning: name not matched: coco-small\n",
            "test of coco-small.zip OK\n"
          ]
        }
      ]
    },
    {
      "cell_type": "code",
      "source": [
        "!zip -r -T coco-medium.zip coco-medium"
      ],
      "metadata": {
        "id": "-gW7H2Ab5ZW2"
      },
      "execution_count": null,
      "outputs": []
    },
    {
      "cell_type": "code",
      "source": [
        "!zip -r -T coco-large.zip coco-large"
      ],
      "metadata": {
        "id": "xBze6T1_5ZUa"
      },
      "execution_count": null,
      "outputs": []
    },
    {
      "cell_type": "code",
      "source": [],
      "metadata": {
        "id": "5RC5iFqe24V1"
      },
      "execution_count": 64,
      "outputs": []
    },
    {
      "cell_type": "code",
      "source": [],
      "metadata": {
        "id": "zTByFJ-S4v-z"
      },
      "execution_count": 64,
      "outputs": []
    },
    {
      "cell_type": "code",
      "source": [],
      "metadata": {
        "id": "iy6IKUkQ4v8m"
      },
      "execution_count": 16,
      "outputs": []
    },
    {
      "cell_type": "code",
      "source": [],
      "metadata": {
        "id": "wdoJ5mEl4v6d"
      },
      "execution_count": null,
      "outputs": []
    }
  ]
}